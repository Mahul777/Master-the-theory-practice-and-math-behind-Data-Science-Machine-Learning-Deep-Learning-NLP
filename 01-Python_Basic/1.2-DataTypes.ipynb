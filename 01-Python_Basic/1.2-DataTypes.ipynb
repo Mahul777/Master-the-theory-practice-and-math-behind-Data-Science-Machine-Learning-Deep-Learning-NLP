{
 "cells": [
  {
   "cell_type": "code",
   "execution_count": 1,
   "id": "a25c7826",
   "metadata": {},
   "outputs": [
    {
     "name": "stdout",
     "output_type": "stream",
     "text": [
      "<class 'int'>\n"
     ]
    }
   ],
   "source": [
    "##1️⃣ Integer (int)\n",
    "# Integer is a whole number, positive or negative, without decimals, of unlimited length.\n",
    "age = 35\n",
    "print(type(age))  # Output: <class 'int'>\n"
   ]
  },
  {
   "cell_type": "code",
   "execution_count": 2,
   "id": "54048468",
   "metadata": {},
   "outputs": [
    {
     "name": "stdout",
     "output_type": "stream",
     "text": [
      "<class 'float'>\n"
     ]
    }
   ],
   "source": [
    "##2️⃣ Float (float)\n",
    "# Float is a number, positive or negative, containing one or more decimals.\n",
    "height = 5.11\n",
    "print(type(height))  # Output: <class 'float'>\n"
   ]
  },
  {
   "cell_type": "code",
   "execution_count": 3,
   "id": "ebb46cc0",
   "metadata": {},
   "outputs": [
    {
     "name": "stdout",
     "output_type": "stream",
     "text": [
      "<class 'str'>\n"
     ]
    }
   ],
   "source": [
    "##3️⃣ String (str)\n",
    "# String is a sequence of characters, used to represent text.\n",
    "name = \"Krish\"\n",
    "print(type(name))  # Output: <class 'str'>\n"
   ]
  },
  {
   "cell_type": "code",
   "execution_count": 5,
   "id": "b8ecb007",
   "metadata": {},
   "outputs": [
    {
     "name": "stdout",
     "output_type": "stream",
     "text": [
      "<class 'bool'>\n",
      "True\n",
      "<class 'bool'>\n"
     ]
    }
   ],
   "source": [
    "##4️⃣ Boolean (bool)\n",
    "# Boolean is a data type that can have one of two values: True or False.\n",
    "is_student = True\n",
    "print(type(is_student))  # Output: <class 'bool'>\n",
    "\n",
    "a = 10\n",
    "b = 10\n",
    "print(a == b)  # Output: True\n",
    "print(type(a == b))  # Output: <class 'bool'>\n",
    "\n"
   ]
  },
  {
   "cell_type": "code",
   "execution_count": 6,
   "id": "e668414a",
   "metadata": {},
   "outputs": [
    {
     "name": "stdout",
     "output_type": "stream",
     "text": [
      "Hello5\n"
     ]
    }
   ],
   "source": [
    "##🔄 Common Errors & Type Conversion\n",
    "##❌ Error: Mixing String and Integer\n",
    "##result = \"Hello\" + 5  # ❌ Error!\n",
    "##You cannot add string and number directly.\n",
    "##✅ Fix: Convert Number to String\n",
    "result = \"Hello\" + str(5)  # ✅ Works fine\n",
    "print(result)  # Output: Hello5\n"
   ]
  }
 ],
 "metadata": {
  "kernelspec": {
   "display_name": "Python 3",
   "language": "python",
   "name": "python3"
  },
  "language_info": {
   "codemirror_mode": {
    "name": "ipython",
    "version": 3
   },
   "file_extension": ".py",
   "mimetype": "text/x-python",
   "name": "python",
   "nbconvert_exporter": "python",
   "pygments_lexer": "ipython3",
   "version": "3.10.16"
  }
 },
 "nbformat": 4,
 "nbformat_minor": 5
}
