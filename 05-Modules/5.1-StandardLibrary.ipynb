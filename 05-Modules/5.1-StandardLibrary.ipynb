{
 "cells": [
  {
   "cell_type": "code",
   "execution_count": null,
   "id": "21f2c387",
   "metadata": {},
   "outputs": [
    {
     "name": "stdout",
     "output_type": "stream",
     "text": [
      "array('i', [1, 2, 3, 4])\n",
      "4.0\n",
      "3.141592653589793\n",
      "7\n",
      "apple\n",
      "c:\\Users\\sahus\\OneDrive\\Desktop\\Complete Data Science\\05-Modules\n"
     ]
    },
    {
     "data": {
      "text/plain": [
       "'destination.txt'"
      ]
     },
     "execution_count": 6,
     "metadata": {},
     "output_type": "execute_result"
    }
   ],
   "source": [
    "# 1.Array Library:\n",
    "import array\n",
    "\n",
    "arr = array.array('i', [1, 2, 3, 4])\n",
    "print(arr)\n",
    "\n",
    "# 2.Math Library:\n",
    "import math\n",
    "print(math.sqrt(16)) #4.0\n",
    "print(math.pi) #3.141592653589793\n",
    "\n",
    "# 3.Random Library:\n",
    "import random\n",
    "print(random.randint(1, 10)) #4\n",
    "print(random.choice(['apple', 'banana', 'cherry'])) #chaerry \n",
    "\n",
    "# 4.OS Library:\n",
    "import os\n",
    "print(os.getcwd())\n",
    "os.mkdir('test_dir')\n",
    "# 5.Shutil Library:\n",
    "import shutil\n",
    "shutil.copyfile('source.txt', 'destination.txt')\n",
    "\n",
    "\n",
    "\n"
   ]
  },
  {
   "cell_type": "code",
   "execution_count": null,
   "id": "ce7ef829",
   "metadata": {},
   "outputs": [
    {
     "name": "stdout",
     "output_type": "stream",
     "text": [
      "{\"name\": \"Krish\", \"age\": 25}\n",
      "<class 'str'>\n",
      "{'name': 'Krish', 'age': 25}\n",
      "<class 'dict'>\n"
     ]
    }
   ],
   "source": [
    "# Importing the json module to work with JSON data\n",
    "import json\n",
    "# Creating a Python dictionary with some data\n",
    "data = {'name': 'Krish', 'age': 25}\n",
    "# Converting the Python dictionary to a JSON string using json.dumps()\n",
    "json_str = json.dumps(data)\n",
    "# Printing the JSON string\n",
    "print(json_str)  # Output: {\"name\": \"Krish\", \"age\": 25}\n",
    "# Printing the type of json_str to show it's a string\n",
    "print(type(json_str))  # Output: <class 'str'>\n",
    "# Converting the JSON string back to a Python dictionary using json.loads()\n",
    "parsed_data = json.loads(json_str)\n",
    "# Printing the parsed dictionary\n",
    "print(parsed_data)  # Output: {'name': 'Krish', 'age': 25}\n",
    "# Printing the type of parsed_data to show it's a dictionary again\n",
    "print(type(parsed_data))  # Output: <class 'dict'>\n",
    "\n",
    "\n"
   ]
  },
  {
   "cell_type": "code",
   "execution_count": 8,
   "id": "c6c81b08",
   "metadata": {},
   "outputs": [
    {
     "name": "stdout",
     "output_type": "stream",
     "text": [
      "['name', 'age']\n",
      "['Krish', '32']\n"
     ]
    }
   ],
   "source": [
    "# 7.CSV Library:\n",
    "import csv\n",
    "\n",
    "# Writing to a CSV file\n",
    "with open('example.csv', mode='w', newline='') as file:\n",
    "    writer = csv.writer(file)\n",
    "    writer.writerow(['name', 'age'])\n",
    "    writer.writerow(['Krish', '32'])\n",
    "\n",
    "# Reading from the same CSV file\n",
    "with open('example.csv', mode='r') as file:\n",
    "    reader = csv.reader(file)\n",
    "    for row in reader:\n",
    "        print(row)"
   ]
  },
  {
   "cell_type": "code",
   "execution_count": 9,
   "id": "ec6d3fda",
   "metadata": {},
   "outputs": [
    {
     "name": "stdout",
     "output_type": "stream",
     "text": [
      "2025-05-17 01:35:31.821941\n",
      "2025-05-16 01:35:31.821941\n"
     ]
    }
   ],
   "source": [
    "# 8.\tDatetime Library:\n",
    "from datetime import datetime, timedelta\n",
    "\n",
    "now = datetime.now()\n",
    "print(now)\n",
    "\n",
    "yesterday = now - timedelta(days=1)\n",
    "print(yesterday)"
   ]
  },
  {
   "cell_type": "code",
   "execution_count": 11,
   "id": "5573b26c",
   "metadata": {},
   "outputs": [
    {
     "name": "stdout",
     "output_type": "stream",
     "text": [
      "1747426207.1703203\n",
      "1747426209.175952\n",
      "123\n"
     ]
    }
   ],
   "source": [
    "# 9.\tTime Library:\n",
    "import time\n",
    "print(time.time())\n",
    "time.sleep(2)\n",
    "print(time.time())\n",
    "\n",
    "# 10.\tRegular Expression (re Library):\n",
    "import re\n",
    "pattern = r'\\d+'\n",
    "text = 'There are 123 apples'\n",
    "match = re.search(pattern, text)\n",
    "print(match.group())"
   ]
  }
 ],
 "metadata": {
  "kernelspec": {
   "display_name": "Python 3",
   "language": "python",
   "name": "python3"
  },
  "language_info": {
   "codemirror_mode": {
    "name": "ipython",
    "version": 3
   },
   "file_extension": ".py",
   "mimetype": "text/x-python",
   "name": "python",
   "nbconvert_exporter": "python",
   "pygments_lexer": "ipython3",
   "version": "3.10.16"
  }
 },
 "nbformat": 4,
 "nbformat_minor": 5
}
