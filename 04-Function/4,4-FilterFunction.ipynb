{
 "cells": [
  {
   "cell_type": "code",
   "execution_count": 6,
   "id": "d2aef998",
   "metadata": {},
   "outputs": [
    {
     "name": "stdout",
     "output_type": "stream",
     "text": [
      "[2, 4, 6, 8]\n",
      "[6, 7, 8, 9]\n",
      "[6, 8]\n",
      "[{'name': 'Krish', 'age': 32}, {'name': 'Jack', 'age': 33}]\n"
     ]
    }
   ],
   "source": [
    "# •\tfilter() is used to select items from a list (or any iterable) based on a condition.\n",
    "# •\tIt applies a function to each element.\n",
    "# •\tOnly the elements that return True from the function are included.\n",
    "# •\tThe result is a filter object, so we usually convert it to a list.\n",
    "\n",
    "# 🧪 Basic Example: Filtering Even Numbers\n",
    "def even_num(num):\n",
    "    return num%2 ==0\n",
    "\n",
    "number =[1,2,3,4,5,6,7,8]\n",
    "result = filter(even_num,number)\n",
    "print(list(result)) #[2, 4, 6, 8]\n",
    "\n",
    "# ⚡ Using filter() with Lambda Function\n",
    "# 🧠 Example: Get numbers greater than 5\n",
    "# List of numbers\n",
    "numbers = [1, 2, 3, 4, 5, 6, 7, 8, 9]\n",
    "\n",
    "# Use filter() with a lambda function to get numbers > 5\n",
    "result = filter(lambda x: x > 5, numbers)\n",
    "\n",
    "# Convert result to list and print\n",
    "print(list(result)) #[6, 7, 8, 9]\n",
    "\n",
    "# 🔀 Multiple Conditions with Lambda\n",
    "# 🧠 Example: Get numbers that are even and greater than 5\n",
    "# List of numbers\n",
    "numbers = [1, 2, 3, 4, 5, 6, 7, 8, 9]\n",
    "\n",
    "# Use filter() with lambda to apply multiple conditions\n",
    "result = filter(lambda x: x > 5 and x % 2 == 0, numbers)\n",
    "\n",
    "# Convert result to list and print\n",
    "print(list(result))  #[6, 8]\n",
    "\n",
    "# 📚 Filtering a List of Dictionaries\n",
    "# 🧠 Example: Get people with age > 25\n",
    "\n",
    "# List of people (each person is a dictionary)\n",
    "people = [\n",
    "    {'name': 'Krish', 'age': 32},\n",
    "    {'name': 'Jack', 'age': 33},\n",
    "    {'name': 'John', 'age': 25}\n",
    "]\n",
    "\n",
    "# Function to check if age is greater than 25\n",
    "def age_greater_than_25(person):\n",
    "    return person['age'] > 25\n",
    "\n",
    "# Use filter() to apply the function on the list\n",
    "result = filter(age_greater_than_25, people)\n",
    "\n",
    "# Convert result to list and print\n",
    "print(list(result)) # [{'name': 'Krish', 'age': 32}, {'name': 'Jack', 'age': 33}]\n",
    "\n",
    "\n",
    "\n",
    "\n"
   ]
  }
 ],
 "metadata": {
  "kernelspec": {
   "display_name": "Python 3",
   "language": "python",
   "name": "python3"
  },
  "language_info": {
   "codemirror_mode": {
    "name": "ipython",
    "version": 3
   },
   "file_extension": ".py",
   "mimetype": "text/x-python",
   "name": "python",
   "nbconvert_exporter": "python",
   "pygments_lexer": "ipython3",
   "version": "3.10.16"
  }
 },
 "nbformat": 4,
 "nbformat_minor": 5
}
