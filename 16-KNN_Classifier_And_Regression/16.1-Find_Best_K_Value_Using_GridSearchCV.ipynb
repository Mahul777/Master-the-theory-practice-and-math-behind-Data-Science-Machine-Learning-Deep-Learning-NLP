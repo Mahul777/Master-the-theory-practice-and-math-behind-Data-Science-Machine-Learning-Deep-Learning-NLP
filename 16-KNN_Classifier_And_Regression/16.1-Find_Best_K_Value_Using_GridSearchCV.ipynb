{
 "cells": [
  {
   "cell_type": "code",
   "execution_count": null,
   "id": "a95734f1",
   "metadata": {},
   "outputs": [
    {
     "name": "stdout",
     "output_type": "stream",
     "text": [
      "✅ Best k value (n_neighbors): {'algorithm': 'ball_tree', 'n_neighbors': 5}\n",
      "✅ Best cross-validation accuracy: 90.38 %\n",
      "✅ Test accuracy: 87.5 %\n"
     ]
    }
   ],
   "source": [
    "from sklearn.datasets import make_classification\n",
    "from sklearn.model_selection import train_test_split, GridSearchCV\n",
    "from sklearn.neighbors import KNeighborsClassifier\n",
    "from sklearn.metrics import accuracy_score\n",
    "\n",
    "# Step 1: Create synthetic dataset\n",
    "# Set n_informative + n_redundant + n_repeated < n_features to avoid ValueError\n",
    "X, y = make_classification(n_samples=1000, n_features=3, n_informative=2, n_redundant=0, n_repeated=0, n_classes=2, random_state=42)\n",
    "\n",
    "# Step 2: Train-test split\n",
    "X_train, X_test, y_train, y_test = train_test_split(X, y, test_size=0.2, random_state=42)\n",
    "\n",
    "# Step 3: Define parameter grid (k values)\n",
    "param_grid = {\n",
    "    'n_neighbors': [1, 2, 3, 4, 5, 6, 7, 8, 9, 10],\n",
    "    'algorithm':[ 'ball_tree', 'kd_tree', 'brute']\n",
    "}\n",
    "param_grid\n",
    "# {'n_neighbors': [1, 2, 3, 4, 5, 6, 7, 8, 9, 10]}\n",
    "# Step 4: Create GridSearchCV object\n",
    "grid = GridSearchCV(KNeighborsClassifier(), param_grid, cv=5)\n",
    "\n",
    "# Step 5: Fit the model\n",
    "grid.fit(X_train, y_train)\n",
    "\n",
    "# Step 6: Get best k and score\n",
    "print(\"✅ Best k value (n_neighbors):\", grid.best_params_)\n",
    "print(\"✅ Best cross-validation accuracy:\", round(grid.best_score_ * 100, 2), \"%\")\n",
    "\n",
    "# Step 7: Evaluate on test data\n",
    "best_model = grid.best_estimator_\n",
    "y_pred = best_model.predict(X_test)\n",
    "print(\"✅ Test accuracy:\", round(accuracy_score(y_test, y_pred) * 100, 2), \"%\")\n",
    "\n",
    "# ✅ Best k value (n_neighbors): {'algorithm': 'ball_tree', 'n_neighbors': 5}\n",
    "# ✅ Best cross-validation accuracy: 90.38 %\n",
    "# ✅ Test accuracy: 87.5 %\n"
   ]
  }
 ],
 "metadata": {
  "kernelspec": {
   "display_name": "Python 3",
   "language": "python",
   "name": "python3"
  },
  "language_info": {
   "codemirror_mode": {
    "name": "ipython",
    "version": 3
   },
   "file_extension": ".py",
   "mimetype": "text/x-python",
   "name": "python",
   "nbconvert_exporter": "python",
   "pygments_lexer": "ipython3",
   "version": "3.10.16"
  }
 },
 "nbformat": 4,
 "nbformat_minor": 5
}
