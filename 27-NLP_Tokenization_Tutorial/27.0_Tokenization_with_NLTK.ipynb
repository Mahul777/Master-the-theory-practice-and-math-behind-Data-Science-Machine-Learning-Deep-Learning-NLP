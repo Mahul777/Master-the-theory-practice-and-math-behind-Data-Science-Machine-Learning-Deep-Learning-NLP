{
 "cells": [
  {
   "cell_type": "code",
   "execution_count": null,
   "id": "d6daa315",
   "metadata": {},
   "outputs": [
    {
     "name": "stdout",
     "output_type": "stream",
     "text": [
      "Hello! Welcome to Krish Naik's NLP tutorials.\n",
      "Please do watch the entire course to become expert in NLP!\n",
      "['Hello!', \"Welcome to Krish Naik's NLP tutorials.\", 'Please do watch the entire course to become expert in NLP!']\n",
      "Hello!\n",
      "Welcome to Krish Naik's NLP tutorials.\n",
      "Please do watch the entire course to become expert in NLP!\n",
      "['Hello', '!', 'Welcome', 'to', 'Krish', 'Naik', \"'s\", 'NLP', 'tutorials', '.', 'Please', 'do', 'watch', 'the', 'entire', 'course', 'to', 'become', 'expert', 'in', 'NLP', '!']\n",
      "sentence ['Please', 'do', 'watch', 'the', 'entire', 'course', 'to', 'become', 'expert', 'in', 'NLP', '!']\n",
      "Word punct ['Hello', '!', 'Welcome', 'to', 'Krish', 'Naik', \"'\", 's', 'NLP', 'tutorials', '.', 'Please', 'do', 'watch', 'the', 'entire', 'course', 'to', 'become', 'expert', 'in', 'NLP', '!']\n",
      "Treebank Word Tokenizer ['Hello', '!', 'Welcome', 'to', 'Krish', 'Naik', \"'s\", 'NLP', 'tutorials.', 'Please', 'do', 'watch', 'the', 'entire', 'course', 'to', 'become', 'expert', 'in', 'NLP', '!']\n"
     ]
    },
    {
     "name": "stderr",
     "output_type": "stream",
     "text": [
      "[nltk_data] Downloading package punkt to\n",
      "[nltk_data]     C:\\Users\\sahus\\AppData\\Roaming\\nltk_data...\n",
      "[nltk_data]   Package punkt is already up-to-date!\n",
      "[nltk_data] Downloading package punkt_tab to\n",
      "[nltk_data]     C:\\Users\\sahus\\AppData\\Roaming\\nltk_data...\n",
      "[nltk_data]   Package punkt_tab is already up-to-date!\n"
     ]
    }
   ],
   "source": [
    "# 🧾 Define a Corpus (Paragraph)\n",
    "corpus = \"\"\"Hello! Welcome to Krish Naik's NLP tutorials.\n",
    "Please do watch the entire course to become expert in NLP!\"\"\"\n",
    "\n",
    "print(corpus)\n",
    "# Hello! Welcome to Krish Naik's NLP tutorials.\n",
    "# Please do watch the entire course to become expert in NLP!\n",
    "\n",
    "# ✂️ Step 3: Sentence Tokenization (Paragraph ➡️ Sentences)\n",
    "# %pip install nltk\n",
    "import nltk\n",
    "from nltk import word_tokenize, sent_tokenize\n",
    "# Download punkt and punkt_tab tokenizers\n",
    "nltk.download('punkt')\n",
    "nltk.download('punkt_tab')\n",
    "# Sentence tokenization\n",
    "documents = sent_tokenize(corpus)\n",
    "print(documents)\n",
    "# ['Hello!', \"Welcome to Krish Naik's NLP tutorials.\", 'Please do watch the entire course to become expert in NLP!']\n",
    "\n",
    "# 🔁 Loop Through Sentences\n",
    "for sentence in documents:\n",
    "    print(sentence)\n",
    "# Hello!\n",
    "# Welcome to Krish Naik's NLP tutorials.\n",
    "# Please do watch the entire course to become expert in NLP!\n",
    "\n",
    "# ✂️ Step 4: Word Tokenization (Paragraph ➡️ Words)\n",
    "from nltk.tokenize import word_tokenize\n",
    "print(word_tokenize(corpus))\n",
    "#['Hello', '!', 'Welcome', 'to', 'Krish', 'Naik', \"'s\", 'NLP', 'tutorials', '.', 'Please', 'do', 'watch', 'the', 'entire', 'course', 'to', 'become', 'expert', 'in', 'NLP', '!']\n",
    "print(\"sentence\",word_tokenize(sentence))\n",
    "# ['Please', 'do', 'watch', 'the', 'entire', 'course', 'to', 'become', 'expert', 'in', 'NLP', '!']\n",
    "\n",
    "#1️⃣ Punkt Word Tokenizer\n",
    "from nltk.tokenize import wordpunct_tokenize\n",
    "print(\"Word punct\", wordpunct_tokenize(corpus))\n",
    "# ['Hello', '!', 'Welcome', 'to', 'Krish', 'Naik', \"'\", 's', 'NLP', 'tutorials', '.', 'Please', 'do', 'watch', 'the', 'entire', 'course', 'to', 'become', 'expert', 'in', 'NLP', '!']\n",
    "# 💡 Difference:\n",
    "# •\t's is split into ' and s\n",
    "\n",
    "# 2️⃣ Treebank Word Tokenizer\n",
    "from nltk.tokenize import TreebankWordTokenizer\n",
    "\n",
    "treebank = TreebankWordTokenizer()\n",
    "print(\"Treebank Word Tokenizer\", treebank.tokenize(corpus))\n",
    "#['Hello', '!', 'Welcome', 'to', 'Krish', 'Naik', \"'s\", 'NLP', 'tutorials.', 'Please', 'do', 'watch', 'the', 'entire', 'course', 'to', 'become', 'expert', 'in', 'NLP', '!']\n",
    "\n",
    "# 💡 Difference:\n",
    "# •\ttutorials. (word + punctuation) is one token\n",
    "# •\tUnlike word_tokenize, which treats . as a separate token\n",
    "\n",
    "\n",
    "\n"
   ]
  }
 ],
 "metadata": {
  "kernelspec": {
   "display_name": "Python 3",
   "language": "python",
   "name": "python3"
  },
  "language_info": {
   "codemirror_mode": {
    "name": "ipython",
    "version": 3
   },
   "file_extension": ".py",
   "mimetype": "text/x-python",
   "name": "python",
   "nbconvert_exporter": "python",
   "pygments_lexer": "ipython3",
   "version": "3.10.16"
  }
 },
 "nbformat": 4,
 "nbformat_minor": 5
}
