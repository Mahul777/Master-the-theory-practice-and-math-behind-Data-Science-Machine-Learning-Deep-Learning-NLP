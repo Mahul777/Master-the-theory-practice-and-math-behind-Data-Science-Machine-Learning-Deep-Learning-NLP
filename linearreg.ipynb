{
 "cells": [
  {
   "cell_type": "code",
   "execution_count": 1,
   "id": "25fe1363",
   "metadata": {},
   "outputs": [
    {
     "data": {
      "text/plain": [
       "2"
      ]
     },
     "execution_count": 1,
     "metadata": {},
     "output_type": "execute_result"
    }
   ],
   "source": [
    "1+1"
   ]
  },
  {
   "cell_type": "code",
   "execution_count": 2,
   "id": "2fcc8ea6",
   "metadata": {},
   "outputs": [
    {
     "name": "stdout",
     "output_type": "stream",
     "text": [
      "Collecting pandas\n",
      "  Downloading pandas-2.2.3-cp310-cp310-win_amd64.whl.metadata (19 kB)\n",
      "Requirement already satisfied: numpy>=1.22.4 in c:\\users\\sahus\\onedrive\\desktop\\complete data science\\venv\\lib\\site-packages (from pandas) (2.2.4)\n",
      "Requirement already satisfied: python-dateutil>=2.8.2 in c:\\users\\sahus\\onedrive\\desktop\\complete data science\\venv\\lib\\site-packages (from pandas) (2.9.0.post0)\n",
      "Collecting pytz>=2020.1 (from pandas)\n",
      "  Using cached pytz-2025.2-py2.py3-none-any.whl.metadata (22 kB)\n",
      "Collecting tzdata>=2022.7 (from pandas)\n",
      "  Using cached tzdata-2025.2-py2.py3-none-any.whl.metadata (1.4 kB)\n",
      "Requirement already satisfied: six>=1.5 in c:\\users\\sahus\\onedrive\\desktop\\complete data science\\venv\\lib\\site-packages (from python-dateutil>=2.8.2->pandas) (1.17.0)\n",
      "Downloading pandas-2.2.3-cp310-cp310-win_amd64.whl (11.6 MB)\n",
      "   ---------------------------------------- 0.0/11.6 MB ? eta -:--:--\n",
      "   - -------------------------------------- 0.5/11.6 MB 5.6 MB/s eta 0:00:02\n",
      "   --- ------------------------------------ 1.0/11.6 MB 3.4 MB/s eta 0:00:04\n",
      "   --- ------------------------------------ 1.0/11.6 MB 3.4 MB/s eta 0:00:04\n",
      "   ------- -------------------------------- 2.1/11.6 MB 2.6 MB/s eta 0:00:04\n",
      "   ------- -------------------------------- 2.1/11.6 MB 2.6 MB/s eta 0:00:04\n",
      "   --------- ------------------------------ 2.6/11.6 MB 2.3 MB/s eta 0:00:04\n",
      "   ----------- ---------------------------- 3.4/11.6 MB 2.3 MB/s eta 0:00:04\n",
      "   ------------- -------------------------- 3.9/11.6 MB 2.4 MB/s eta 0:00:04\n",
      "   --------------- ------------------------ 4.5/11.6 MB 2.4 MB/s eta 0:00:04\n",
      "   ----------------- ---------------------- 5.0/11.6 MB 2.4 MB/s eta 0:00:03\n",
      "   ------------------ --------------------- 5.5/11.6 MB 2.4 MB/s eta 0:00:03\n",
      "   -------------------- ------------------- 6.0/11.6 MB 2.4 MB/s eta 0:00:03\n",
      "   ---------------------- ----------------- 6.6/11.6 MB 2.4 MB/s eta 0:00:03\n",
      "   ------------------------ --------------- 7.1/11.6 MB 2.4 MB/s eta 0:00:02\n",
      "   -------------------------- ------------- 7.6/11.6 MB 2.4 MB/s eta 0:00:02\n",
      "   ---------------------------- ----------- 8.1/11.6 MB 2.4 MB/s eta 0:00:02\n",
      "   ----------------------------- ---------- 8.7/11.6 MB 2.4 MB/s eta 0:00:02\n",
      "   ------------------------------- -------- 9.2/11.6 MB 2.4 MB/s eta 0:00:01\n",
      "   --------------------------------- ------ 9.7/11.6 MB 2.4 MB/s eta 0:00:01\n",
      "   --------------------------------- ------ 9.7/11.6 MB 2.4 MB/s eta 0:00:01\n",
      "   ------------------------------------- -- 10.7/11.6 MB 2.4 MB/s eta 0:00:01\n",
      "   -------------------------------------- - 11.3/11.6 MB 2.4 MB/s eta 0:00:01\n",
      "   ---------------------------------------- 11.6/11.6 MB 2.4 MB/s eta 0:00:00\n",
      "Using cached pytz-2025.2-py2.py3-none-any.whl (509 kB)\n",
      "Using cached tzdata-2025.2-py2.py3-none-any.whl (347 kB)\n",
      "Installing collected packages: pytz, tzdata, pandas\n",
      "Successfully installed pandas-2.2.3 pytz-2025.2 tzdata-2025.2\n",
      "Note: you may need to restart the kernel to use updated packages.\n"
     ]
    }
   ],
   "source": [
    "pip install pandas"
   ]
  }
 ],
 "metadata": {
  "kernelspec": {
   "display_name": "Python 3",
   "language": "python",
   "name": "python3"
  },
  "language_info": {
   "codemirror_mode": {
    "name": "ipython",
    "version": 3
   },
   "file_extension": ".py",
   "mimetype": "text/x-python",
   "name": "python",
   "nbconvert_exporter": "python",
   "pygments_lexer": "ipython3",
   "version": "3.10.16"
  }
 },
 "nbformat": 4,
 "nbformat_minor": 5
}
