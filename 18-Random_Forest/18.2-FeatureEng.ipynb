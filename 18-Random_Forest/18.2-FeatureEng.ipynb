{
 "cells": [
  {
   "cell_type": "code",
   "execution_count": null,
   "id": "9e223a79",
   "metadata": {},
   "outputs": [],
   "source": [
    "import pandas as pd\n",
    "import numpy as np\n",
    "from sklearn.preprocessing import StandardScaler\n",
    "\n",
    "# 1️⃣ Load the dataset\n",
    "df = pd.read_csv('car_data.csv')\n",
    "print(\"✅ Loaded dataset. Shape:\", df.shape)\n",
    "\n",
    "# 2️⃣ Drop redundant columns\n",
    "#If 'car_name' is present, it is dropped.\n",
    "df.drop(columns=['Unnamed: 0'], inplace=True)\n",
    "if 'car_name' in df.columns:\n",
    "    df.drop(columns=['car_name'], inplace=True)\n",
    "\n",
    "# 3️⃣ Fill missing values\n",
    "for col in df.select_dtypes(include='number'):\n",
    "    df[col].fillna(df[col].median(), inplace=True)\n",
    "\n",
    "for col in df.select_dtypes(include='object'):\n",
    "    df[col].fillna(df[col].mode()[0], inplace=True)\n",
    "\n",
    "# 4️⃣ Log transform skewed numeric features\n",
    "for col in ['km_driven', 'selling_price', 'engine']:\n",
    "    df[col] = np.log1p(df[col])\n",
    "\n",
    "# 5️⃣ Create interaction feature: price per km\n",
    "df['price_per_km'] = df['selling_price'] / (np.expm1(df['km_driven']) + 1)\n",
    "\n",
    "# 6️⃣ Encode categorical variables\n",
    "\n",
    "# Categories:\n",
    "# - transmission_type: Manual, Automatic → Binary\n",
    "# - fuel_type: Petrol, Diesel, CNG → One-hot (2 cols)\n",
    "# - seller_type: Individual, Dealer, Trustmark Dealer → One-hot (2 cols)\n",
    "\n",
    "cat_cols = ['transmission_type', 'fuel_type', 'seller_type', 'brand', 'model']\n",
    "df = pd.get_dummies(df, columns=cat_cols, drop_first=True)\n",
    "\n",
    "# 7️⃣ Normalize selected numeric columns\n",
    "scale_cols = ['mileage', 'engine', 'max_power', 'price_per_km']\n",
    "scaler = StandardScaler()\n",
    "df[scale_cols] = scaler.fit_transform(df[scale_cols])\n",
    "\n",
    "# 🔁 Save cleaned dataset\n",
    "df.to_csv('car_data_cleaned.csv', index=False)\n",
    "\n",
    "# ✅ Summary\n",
    "print(\"✅ Cleaning & Feature Engineering Done\")\n",
    "print(\"📊 Final Shape:\", df.shape)\n",
    "print(\"🧠 Columns:\", df.columns.tolist())\n",
    "df.head()\n"
   ]
  }
 ],
 "metadata": {
  "kernelspec": {
   "display_name": "Python 3",
   "language": "python",
   "name": "python3"
  },
  "language_info": {
   "codemirror_mode": {
    "name": "ipython",
    "version": 3
   },
   "file_extension": ".py",
   "mimetype": "text/x-python",
   "name": "python",
   "nbconvert_exporter": "python",
   "pygments_lexer": "ipython3",
   "version": "3.10.16"
  }
 },
 "nbformat": 4,
 "nbformat_minor": 5
}
