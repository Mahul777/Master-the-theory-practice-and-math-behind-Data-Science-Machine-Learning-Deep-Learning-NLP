{
 "cells": [
  {
   "cell_type": "code",
   "execution_count": null,
   "id": "63df96a9",
   "metadata": {},
   "outputs": [
    {
     "name": "stdout",
     "output_type": "stream",
     "text": [
      "5\n",
      "3\n",
      "True\n",
      "6\n",
      "6\n",
      "[1, 4, 9, 16]\n",
      "[1, 4, 9, 16]\n"
     ]
    }
   ],
   "source": [
    "# 🔹 What is a Lambda Function?\n",
    "# •\tA lambda function is a small, anonymous function (a function without a name).\n",
    "# •\tIt is created using the lambda keyword.\n",
    "# •\tIt can take any number of arguments but can only have one expression.\n",
    "# •\tUsed for simple, short operations or passed as an argument to other functions.\n",
    "\n",
    "# 🔹 Syntax of a Lambda Function:\n",
    "# lambda arguments: expression\n",
    "\n",
    "# lambda is the keyword.\n",
    "# arguments are the input parameters (like in a regular function).\n",
    "# expression is a single expression evaluated and returned.\n",
    "\n",
    "# 🔹 Example 1: Add Two Numbers (Normal Function vs Lambda)\n",
    "#✅ Normal Function:\n",
    "def addTwo(num1,num2):\n",
    "    return num1+num2\n",
    "print(addTwo(2,3)) #5\n",
    "\n",
    "#✅ Lambda Function:\n",
    "addTwo1 = lambda a,b: a+b \n",
    "print(addTwo1(1,2)) #3\n",
    "\n",
    "# 🔹 Example 2: Check Even Number\n",
    "#✅ Normal Function:\n",
    "def even_num(num):\n",
    "    return num%2 == 0\n",
    "even_num(24) #True\n",
    "#✅ Lambda Function:\n",
    "even_num1= lambda num: num%2 ==0\n",
    "print(even_num1(22)) #True\n",
    "\n",
    "# 🔹 Example 3: Add Three Numbers\n",
    "#✅ Normal Function:\n",
    "def addThree(x,c,v):\n",
    "    return x+c+v\n",
    "print(addThree(1,2,3)) #6\n",
    "#✅ Lambda Function:\n",
    "addThree1 = lambda q,w,e: q+w+e\n",
    "print(addThree1(1,2,3)) #6\n",
    "\n",
    "# 🔹 Power of Lambda with map() Function\n",
    "# ✅ Problem: Square all numbers in a list\n",
    "\n",
    "#✅ Normal Function:\n",
    "def square(num):\n",
    "    return num**2\n",
    "numbers =[1,2,3,4]\n",
    "squareNumber = list(map(square,numbers))\n",
    "print(squareNumber) #[1, 4, 9, 16]\n",
    "#✅ Lambda Function:\n",
    "numbers1 = [1,2,3,4]\n",
    "squareNumber1 = list(map(lambda num: num**2,numbers1))\n",
    "print(squareNumber1) #[1, 4, 9, 16]\n",
    "\n",
    "\n"
   ]
  }
 ],
 "metadata": {
  "kernelspec": {
   "display_name": "Python 3",
   "language": "python",
   "name": "python3"
  },
  "language_info": {
   "codemirror_mode": {
    "name": "ipython",
    "version": 3
   },
   "file_extension": ".py",
   "mimetype": "text/x-python",
   "name": "python",
   "nbconvert_exporter": "python",
   "pygments_lexer": "ipython3",
   "version": "3.10.16"
  }
 },
 "nbformat": 4,
 "nbformat_minor": 5
}
