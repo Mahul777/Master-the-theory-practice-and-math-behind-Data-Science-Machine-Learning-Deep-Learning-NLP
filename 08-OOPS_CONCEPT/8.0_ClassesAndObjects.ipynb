{
 "cells": [
  {
   "cell_type": "markdown",
   "id": "f1b66835",
   "metadata": {},
   "source": [
    "✅ What is OOP?\n",
    "•\tOOP = Object-Oriented Programming.\n",
    "•\tHelps you model real-world things (like dogs, cars, bank accounts).\n",
    "•\tMakes code reusable, structured, and easy to maintain.\n",
    "•\tUsed in building large apps, like games, websites, finance systems, etc.\n",
    "✅ Key Concepts in OOP\n",
    "Concept\tMeaning\n",
    "class\tA blueprint to create objects\n",
    "object\tA real thing made from the class (e.g., a specific dog or car)\n",
    "attribute\tData inside the object (e.g., name, age, balance)\n",
    "method\tFunction inside a class (e.g., bark, deposit, withdraw)\n",
    "__init__()\tA special method called a constructor to initialize values\n",
    "self\tRefers to the current object and is used inside class methods\n"
   ]
  },
  {
   "cell_type": "code",
   "execution_count": 3,
   "id": "4ff26564",
   "metadata": {},
   "outputs": [
    {
     "name": "stdout",
     "output_type": "stream",
     "text": [
      "Buddy says Woof!\n",
      "Lucy says Woof!\n"
     ]
    }
   ],
   "source": [
    "# Define a class called Dog\n",
    "class Dog:\n",
    "    # Constructor method \n",
    "    def __init__(self, name, age):\n",
    "        self.name = name\n",
    "        self.age = age\n",
    "\n",
    "    # Define an instance method called bark\n",
    "    def bark(self):\n",
    "        print(self.name, \"says Woof!\")\n",
    "\n",
    "\n",
    "# Create a Dog object named 'dog1' \n",
    "dog1 = Dog(\"Buddy\", 3)\n",
    "dog1.bark()\n",
    "\n",
    "# Create another Dog object named 'dog2' \n",
    "dog2 = Dog(\"Lucy\", 4)\n",
    "dog2.bark()\n"
   ]
  },
  {
   "cell_type": "code",
   "execution_count": 4,
   "id": "5684494a",
   "metadata": {},
   "outputs": [
    {
     "name": "stdout",
     "output_type": "stream",
     "text": [
      "5000\n",
      "100 deposited. New balance is 5100\n",
      "300 withdrawn. New balance is 4800\n",
      "4800\n"
     ]
    }
   ],
   "source": [
    "# 🏦 Example 2: Bank Account – Full OOP Program\n",
    "# 🔹 Step 1: Define the class and constructor\n",
    "class BankAccount:\n",
    "    def __init__(self, owner, balance=0):\n",
    "        self.owner = owner\n",
    "        self.balance = balance\n",
    "# 🔹 Step 2: Add deposit method\n",
    "    def deposit(self, amount):\n",
    "        self.balance = self.balance + amount\n",
    "        print(f\"{amount} deposited. New balance is {self.balance}\")\n",
    "# 🔹 Step 3: Add withdraw method\n",
    "    def withdraw(self, amount):\n",
    "        if amount > self.balance:\n",
    "            print(\"Insufficient funds\")\n",
    "        else:\n",
    "            self.balance -= amount\n",
    "            print(f\"{amount} withdrawn. New balance is {self.balance}\")\n",
    "# 🔹 Step 4: Add get_balance method\n",
    "    def get_balance(self):\n",
    "        return self.balance\n",
    "# 🎮 Using the Class\n",
    "account = BankAccount(\"Krish\", 5000)\n",
    "\n",
    "print(account.get_balance())  # Output: 5000\n",
    "\n",
    "account.deposit(100)          # Output: 100 deposited. New balance is 5100\n",
    "account.withdraw(300)         # Output: 300 withdrawn. New balance is 4800\n",
    "\n",
    "print(account.get_balance())  # Output: 4800\n"
   ]
  },
  {
   "cell_type": "code",
   "execution_count": null,
   "id": "2587b525",
   "metadata": {},
   "outputs": [],
   "source": []
  }
 ],
 "metadata": {
  "kernelspec": {
   "display_name": "Python 3",
   "language": "python",
   "name": "python3"
  },
  "language_info": {
   "codemirror_mode": {
    "name": "ipython",
    "version": 3
   },
   "file_extension": ".py",
   "mimetype": "text/x-python",
   "name": "python",
   "nbconvert_exporter": "python",
   "pygments_lexer": "ipython3",
   "version": "3.10.16"
  }
 },
 "nbformat": 4,
 "nbformat_minor": 5
}
