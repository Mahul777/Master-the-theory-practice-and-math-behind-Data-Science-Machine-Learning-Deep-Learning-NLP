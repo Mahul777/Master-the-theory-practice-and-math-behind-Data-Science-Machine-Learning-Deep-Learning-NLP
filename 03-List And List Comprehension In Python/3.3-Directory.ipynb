{
 "cells": [
  {
   "cell_type": "code",
   "execution_count": null,
   "id": "19290694",
   "metadata": {},
   "outputs": [
    {
     "name": "stdout",
     "output_type": "stream",
     "text": [
      "<class 'dict'>\n",
      "Apoorv\n",
      "22\n",
      "{'name': 'Apoorv', 'age': 33, 'grade': 'A'}\n",
      "{'name': 'Apoorv', 'age': 33, 'grade': 'A', 'address': 'Bareilly'}\n",
      "{'name': 'Apoorv', 'age': 33, 'address': 'Bareilly'}\n",
      "dict_keys(['name', 'age', 'address'])\n",
      "dict_values(['Apoorv', 33, 'Bareilly'])\n",
      "dict_items([('name', 'Apoorv'), ('age', 33), ('address', 'Bareilly')])\n",
      "{'name': 'Apoorv', 'age': 33, 'address': 'Bareilly'}\n",
      "name\n",
      "age\n",
      "address\n",
      "Apoorv\n",
      "33\n",
      "Bareilly\n",
      "name Apoorv\n",
      "age 33\n",
      "address Bareilly\n"
     ]
    }
   ],
   "source": [
    "# •\tA dictionary is like a real dictionary: it has words (keys) and their meanings (values).\n",
    "# •\tIn Python, it's a way to store data using key-value pairs.\n",
    "\n",
    "my_dict = {}\n",
    "print(type(my_dict))  #<class 'dict'>\n",
    "\n",
    "#Creating and Access Dictionaries data\n",
    "student={\n",
    "    \"name\":\"Apoorv\",\n",
    "    \"age\":22,\n",
    "    \"grade\": \"A\"\n",
    "}\n",
    "\n",
    "print(student[\"name\"]) #Apoorv\n",
    "print(student[\"age\"])  #22\n",
    "#print(student[\"last_Name\"])  # None\n",
    "\n",
    "# ✏️ Changing or Adding Data\n",
    "student[\"age\"] = 33\n",
    "print(student) #{'name': 'Apoorv', 'age': 33, 'grade': 'A'}\n",
    "student[\"address\"] = \"Bareilly\"\n",
    "print(student) # {'name': 'Apoorv', 'age': 33, 'grade': 'A', 'address': 'Bareilly'}\n",
    "del student[\"grade\"]\n",
    "print(student) #{'name': 'Apoorv', 'age': 33, 'address': 'Bareilly'}\n",
    "\n",
    "\n",
    "# | **Method**      | **What It Does**                   |\n",
    "# | --------------- | ---------------------------------- |\n",
    "# | `dict.keys()`   | Gets all keys                      |\n",
    "# | `dict.values()` | Gets all values                    |\n",
    "# | `dict.items()`  | Gets all key-value pairs as tuples |\n",
    "\n",
    "print(student.keys())  # dict_keys(['name', 'age', 'address'])\n",
    "print(student.values())# dict_values(['Apoorv', 33, 'Bareilly'])\n",
    "print(student.items()) #dict_items([('name', 'Apoorv'), ('age', 33), ('address', 'Bareilly')])\n",
    "\n",
    "# 🧪 Copying a Dictionary\n",
    "copy = student.copy()  # Creates a separate copy\n",
    "print(copy)  # {'name': 'Apoorv', 'age': 33, 'address': 'Bareilly'}\n",
    "\n",
    "# 🔁 Looping Through a Dictionary\n",
    "#➤ Only Keys\n",
    "for key in student.keys():\n",
    "    print(key)                  #name age address\n",
    "\n",
    "#➤ Only Values\n",
    "for value in student.values():\n",
    "    print(value)                 #Apoorv 33 Bareilly\n",
    "\n",
    "#➤ Both Key and Value\n",
    "for key,value in student.items():\n",
    "    print(key, value)  # name Apoorv\n",
    "                       #age 33\n",
    "                       #address Bareilly"
   ]
  },
  {
   "cell_type": "code",
   "execution_count": null,
   "id": "296f8580",
   "metadata": {},
   "outputs": [
    {
     "name": "stdout",
     "output_type": "stream",
     "text": [
      "35\n",
      "ID: student1\n",
      "name Chris\n",
      "age 32\n",
      "ID: student2\n",
      "name Peter\n",
      "age 35\n",
      "{'a': 1, 'b': 2, 'c': 3, 'd': 4}\n"
     ]
    }
   ],
   "source": [
    "# 🧩 Nested Dictionaries\n",
    "# ➤ A Dictionary Inside Another Dictionary\n",
    "students = {\n",
    "    \"student1\": {\"name\": \"Chris\", \"age\": 32},\n",
    "    \"student2\": {\"name\": \"Peter\", \"age\": 35}\n",
    "}\n",
    "print(students[\"student2\"][\"age\"])  # 35\n",
    "for id, info in students.items():\n",
    "    print(\"ID:\", id)\n",
    "    for key, value in info.items():\n",
    "        print(key, value)\n",
    "# 🔗 Merge Two Dictionaries\n",
    "dict1 ={\"a\":1,\"b\":2}\n",
    "dict2={\"c\":3,\"d\":4}\n",
    "\n",
    "merged ={**dict1,**dict2} \n",
    "print(merged)  # {'a': 1, 'b': 2, 'c': 3, 'd': 4}"
   ]
  }
 ],
 "metadata": {
  "kernelspec": {
   "display_name": "Python 3",
   "language": "python",
   "name": "python3"
  },
  "language_info": {
   "codemirror_mode": {
    "name": "ipython",
    "version": 3
   },
   "file_extension": ".py",
   "mimetype": "text/x-python",
   "name": "python",
   "nbconvert_exporter": "python",
   "pygments_lexer": "ipython3",
   "version": "3.10.16"
  }
 },
 "nbformat": 4,
 "nbformat_minor": 5
}
