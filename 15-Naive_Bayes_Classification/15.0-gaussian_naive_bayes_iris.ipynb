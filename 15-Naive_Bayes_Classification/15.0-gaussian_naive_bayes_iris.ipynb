{
 "cells": [
  {
   "cell_type": "code",
   "execution_count": null,
   "id": "99dd77ee",
   "metadata": {},
   "outputs": [
    {
     "name": "stdout",
     "output_type": "stream",
     "text": [
      "Accuracy: 0.9777777777777777\n",
      "Confusion Matrix:\n",
      " [[19  0  0]\n",
      " [ 0 12  1]\n",
      " [ 0  0 13]]\n",
      "Classification Report:\n",
      "               precision    recall  f1-score   support\n",
      "\n",
      "           0       1.00      1.00      1.00        19\n",
      "           1       1.00      0.92      0.96        13\n",
      "           2       0.93      1.00      0.96        13\n",
      "\n",
      "    accuracy                           0.98        45\n",
      "   macro avg       0.98      0.97      0.97        45\n",
      "weighted avg       0.98      0.98      0.98        45\n",
      "\n"
     ]
    }
   ],
   "source": [
    "# ✅ Step 1: Import Required Libraries\n",
    "from sklearn.datasets import load_iris\n",
    "from sklearn.model_selection import train_test_split\n",
    "from sklearn.naive_bayes import GaussianNB\n",
    "from sklearn.metrics import accuracy_score, confusion_matrix, classification_report\n",
    "# 📝 We are importing the Iris dataset, splitting it, using GaussianNB, and evaluating the model.\n",
    "\n",
    "# ✅ Step 2: Load Dataset\n",
    "\n",
    "X, y = load_iris(return_X_y=True)\n",
    "# 📝 X = features (sepal/petal length and width)\n",
    "# y = target labels (0, 1, or 2 corresponding to flower species)\n",
    "X\n",
    "# array([[5.1, 3.5, 1.4, 0.2])\n",
    "y\n",
    "# array([0, 0, 0, 0, 0, 0, 0, 0, 0, 0, 0, 0, 0, 0, 0, 0, 0, 0, 0, 0, 0, 0,])\n",
    "\n",
    "# ✅ Step 3: Train-Test Split\n",
    "X_train, X_test, y_train, y_test = train_test_split(X, y, test_size=0.3, random_state=42)\n",
    "# 📝 70% for training, 30% for testing. random_state=42 ensures reproducibility.\n",
    "\n",
    "# All the distribution is numerical value which means continuous value so we are going to use Gauss Model\n",
    "# ✅ Step 4: Initialize and Train Gaussian Naive Bayes Model\n",
    "\n",
    "gnb = GaussianNB()\n",
    "gnb.fit(X_train, y_train)\n",
    "# 📝 GaussianNB assumes features follow a normal (Gaussian) distribution.\n",
    "# .fit() trains the model using training data.\n",
    "\n",
    "# ✅ Step 5: Predict on Test Data\n",
    "y_pred = gnb.predict(X_test)\n",
    "# 📝 predict() uses the trained model to make predictions on unseen test data.\n",
    "\n",
    "# ✅ Step 6: Evaluate the Model\n",
    "\n",
    "print(\"Accuracy:\", accuracy_score(y_test, y_pred))\n",
    "print(\"Confusion Matrix:\\n\", confusion_matrix(y_test, y_pred))\n",
    "print(\"Classification Report:\\n\", classification_report(y_test, y_pred))\n",
    "# 📝\n",
    "# •\tAccuracy: how often the model is correct\n",
    "# •\tConfusion Matrix: how predictions compare to actual labels\n",
    "# •\tClassification Report: includes precision, recall, F1-score for each class\n",
    "\n",
    "# Accuracy: 0.9777777777777777\n",
    "# Confusion Matrix:\n",
    "#  [[19  0  0]\n",
    "#  [ 0 12  1]\n",
    "#  [ 0  0 13]]\n",
    "# Classification Report:\n",
    "#                precision    recall  f1-score   support\n",
    "\n",
    "#            0       1.00      1.00      1.00        19\n",
    "#            1       1.00      0.92      0.96        13\n",
    "#            2       0.93      1.00      0.96        13\n",
    "\n",
    "#     accuracy                           0.98        45\n",
    "#    macro avg       0.98      0.97      0.97        45\n",
    "# weighted avg       0.98      0.98      0.98        45\n",
    "\n",
    "\n",
    "\n",
    "\n"
   ]
  }
 ],
 "metadata": {
  "kernelspec": {
   "display_name": "Python 3",
   "language": "python",
   "name": "python3"
  },
  "language_info": {
   "codemirror_mode": {
    "name": "ipython",
    "version": 3
   },
   "file_extension": ".py",
   "mimetype": "text/x-python",
   "name": "python",
   "nbconvert_exporter": "python",
   "pygments_lexer": "ipython3",
   "version": "3.10.16"
  }
 },
 "nbformat": 4,
 "nbformat_minor": 5
}
