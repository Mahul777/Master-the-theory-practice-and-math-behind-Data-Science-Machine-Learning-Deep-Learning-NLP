{
 "cells": [
  {
   "cell_type": "code",
   "execution_count": 4,
   "id": "32cd4f65",
   "metadata": {},
   "outputs": [
    {
     "name": "stdout",
     "output_type": "stream",
     "text": [
      "You are allowed to vote\n"
     ]
    }
   ],
   "source": [
    "#If statement\n",
    "#If statement is used to check a condition and execute a block of code if the condition is true\n",
    "age =20\n",
    "if age >=18:\n",
    "    print(\"You are allowed to vote\")"
   ]
  },
  {
   "cell_type": "code",
   "execution_count": 5,
   "id": "c13e988d",
   "metadata": {},
   "outputs": [
    {
     "name": "stdout",
     "output_type": "stream",
     "text": [
      "You are not allowed to vote\n"
     ]
    }
   ],
   "source": [
    "#else statement\n",
    "#Else statement is used to execute a block of code if the condition in the if statement is false\n",
    "age=16\n",
    "if age>=18:\n",
    "    print(\"You are allowed to vote\")\n",
    "else:\n",
    "    print(\"You are not allowed to vote\")"
   ]
  },
  {
   "cell_type": "code",
   "execution_count": 8,
   "id": "c4f6e28f",
   "metadata": {},
   "outputs": [
    {
     "name": "stdout",
     "output_type": "stream",
     "text": [
      "You are a teenager.\n"
     ]
    }
   ],
   "source": [
    "##elif statement\n",
    "#Elif statement is used to check multiple conditions\n",
    "age = 17\n",
    "\n",
    "if age < 13:\n",
    "    print(\"You are a child.\")\n",
    "elif age < 18:\n",
    "    print(\"You are a teenager.\")\n",
    "else:\n",
    "    print(\"You are an adult.\")\n"
   ]
  },
  {
   "cell_type": "code",
   "execution_count": 9,
   "id": "96397c95",
   "metadata": {},
   "outputs": [
    {
     "name": "stdout",
     "output_type": "stream",
     "text": [
      "The number is positive.\n",
      "The number is even.\n"
     ]
    }
   ],
   "source": [
    "##Nested Conditional Statements\n",
    "#Nested conditional statements are used to check multiple conditions within another condition\n",
    "num = int(input(\"Enter a number: \"))\n",
    "if num> 0:\n",
    "    print(\"The number is positive.\")\n",
    "    if num % 2 == 0:\n",
    "        print(\"The number is even.\")\n",
    "    else:\n",
    "        print(\"The number is odd.\")\n",
    "else:\n",
    "    print(\"The number is zero or negative\")"
   ]
  },
  {
   "cell_type": "code",
   "execution_count": 19,
   "id": "0f5eeb4f",
   "metadata": {},
   "outputs": [
    {
     "name": "stdout",
     "output_type": "stream",
     "text": [
      "220 is a leap year\n"
     ]
    }
   ],
   "source": [
    "##Check if a Year is a Leap Year\n",
    "year = int(input(\"Enter  year\"))\n",
    "if((year%4==0 and year%100 !=0) or (year%400==0)):\n",
    "    print(year,\"is a leap year\")\n",
    "else:\n",
    "    print(year,\"is not a leap year\")"
   ]
  },
  {
   "cell_type": "code",
   "execution_count": 22,
   "id": "b9f6c70a",
   "metadata": {},
   "outputs": [
    {
     "name": "stdout",
     "output_type": "stream",
     "text": [
      "Result: 44.0\n"
     ]
    }
   ],
   "source": [
    "# Take user input\n",
    "num1 = float(input(\"Enter first number: \"))\n",
    "operator = input(\"Enter operator (+, -, *, /): \")\n",
    "num2 = float(input(\"Enter second number: \"))\n",
    "\n",
    "# Perform calculation based on the operator\n",
    "if operator == '+':\n",
    "    result = num1 + num2\n",
    "    print(\"Result:\", result)\n",
    "elif operator == '-':\n",
    "    result = num1 - num2\n",
    "    print(\"Result:\", result)\n",
    "elif operator == '*':\n",
    "    result = num1 * num2\n",
    "    print(\"Result:\", result)\n",
    "elif operator == '/':\n",
    "    if num2 != 0:\n",
    "        result = num1 / num2\n",
    "        print(\"Result:\", result)\n",
    "    else:\n",
    "        print(\"Error: Division by zero is not allowed.\")\n",
    "else:\n",
    "    print(\"Invalid operator.\")\n"
   ]
  },
  {
   "cell_type": "code",
   "execution_count": 23,
   "id": "a80cb0e2",
   "metadata": {},
   "outputs": [
    {
     "name": "stdout",
     "output_type": "stream",
     "text": [
      "Your ticket price is: $20\n"
     ]
    }
   ],
   "source": [
    "## Ticket Proce Calculator\n",
    "# Get user inputs\n",
    "age = int(input(\"Enter your age: \"))\n",
    "is_student = input(\"Are you a student? (yes/no): \").strip().lower()\n",
    "\n",
    "# Determine ticket price\n",
    "if age < 5:\n",
    "    price = 0\n",
    "elif age < 12:\n",
    "    price = 10\n",
    "elif age < 17:\n",
    "    if is_student == \"yes\":\n",
    "        price = 12\n",
    "    else:\n",
    "        price = 15\n",
    "else:\n",
    "    price = 20\n",
    "\n",
    "# Display result\n",
    "if price == 0:\n",
    "    print(\"Your ticket is free!\")\n",
    "else:\n",
    "    print(f\"Your ticket price is: ${price}\")\n"
   ]
  }
 ],
 "metadata": {
  "kernelspec": {
   "display_name": "Python 3",
   "language": "python",
   "name": "python3"
  },
  "language_info": {
   "codemirror_mode": {
    "name": "ipython",
    "version": 3
   },
   "file_extension": ".py",
   "mimetype": "text/x-python",
   "name": "python",
   "nbconvert_exporter": "python",
   "pygments_lexer": "ipython3",
   "version": "3.10.16"
  }
 },
 "nbformat": 4,
 "nbformat_minor": 5
}
