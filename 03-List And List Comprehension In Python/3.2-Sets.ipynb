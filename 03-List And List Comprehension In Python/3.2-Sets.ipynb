{
 "cells": [
  {
   "cell_type": "code",
   "execution_count": null,
   "id": "d6847640",
   "metadata": {},
   "outputs": [],
   "source": [
    "# •\tSets are a built-in data type in Python.\n",
    "# •\tThey are used to store a collection of unique items.\n",
    "# •\tUnordered → the elements do not follow any order.\n",
    "# •\tNo duplicate values allowed.\n",
    "# •\tUseful for:\n",
    "# o\tRemoving duplicates\n",
    "# o\tMembership tests (checking if something is in the set)\n",
    "# o\tMath operations like union, intersection, etc.\n"
   ]
  },
  {
   "cell_type": "code",
   "execution_count": null,
   "id": "102a1873",
   "metadata": {},
   "outputs": [
    {
     "name": "stdout",
     "output_type": "stream",
     "text": [
      "{1, 2, 3}\n",
      "<class 'set'>\n",
      "set()\n",
      "[1, 2, 3, 4]\n",
      "<class 'list'>\n",
      "{1, 2, 3, 4}\n",
      "<class 'set'>\n",
      "{1, 4, 5}\n",
      "{1, 4, 5, 6}\n",
      "{1, 5, 6}\n",
      "{1, 5, 6}\n",
      "{5, 6}\n",
      "set()\n",
      "True\n",
      "False\n",
      "True\n"
     ]
    }
   ],
   "source": [
    "# 🔧 How to Create Sets\n",
    "my_Set={1,2,3}\n",
    "print(my_Set) #{1, 2, 3}\n",
    "print(type(my_Set)) #<class 'set'>\n",
    "\n",
    "#•\t✅ Empty set must be created using set()\n",
    "empty_Set = set();\n",
    "print(empty_Set) #set()\n",
    "\n",
    "# •\t✅ Convert list or tuple to set\n",
    "my_list = [1,2,3,4]\n",
    "print(my_list) #[1, 2, 3, 4]\n",
    "print(type(my_list)) #<class 'list'>\n",
    "my_Set1 = set(my_list)\n",
    "print(my_Set1) #{1, 2, 3, 4}\n",
    "print(type(my_Set1)) #<class 'set'>\n",
    "\n",
    "# 🔄 Sets Automatically Remove Duplicates\n",
    "my_Set2 ={1,4,4,4,5}\n",
    "print(my_Set2) #{1, 4, 5}\n",
    "\n",
    "# Operation in Sets\n",
    "\n",
    "# | Operation             | Method       | Safe from Errors? | Notes                         |\n",
    "# | --------------------- | ------------ | ----------------- | ----------------------------- |\n",
    "# | Add an element        | `add(x)`     | ✅ Yes             | Ignores duplicates            |\n",
    "# | Remove specific item  | `remove(x)`  | ❌ No              | Error if `x` not found        |\n",
    "# | Safe removal          | `discard(x)` | ✅ Yes             | Does nothing if `x` not found |\n",
    "# | Remove random element | `pop()`      | ✅ Yes             | Random element removed        |\n",
    "# | Clear all             | `clear()`    | ✅ Yes             | Empties the set               |\n",
    "\n",
    "my_Set2.add(6)\n",
    "print(my_Set2)   # {1, 4, 5, 6}\n",
    "my_Set2.remove(4)\n",
    "print(my_Set2)   # {1, 5, 6}\n",
    "# my_Set2.remove(10) ->Error\n",
    "# print(my_Set2)\n",
    "\n",
    "my_Set2.discard(10); # It does nothing if element does not exists\n",
    "print(my_Set2)  #{1, 5, 6}\n",
    "\n",
    "my_Set2.pop()   #It randomly remove the element\n",
    "print(my_Set2)  #{5, 6}\n",
    "\n",
    "my_Set2.clear()\n",
    "print(my_Set2) #set()\n",
    "\n",
    "#✅ Membership Test\n",
    "my_Set2 = {1,2,3,4}\n",
    "print(3 in my_Set2)      #True\n",
    "print(10 in my_Set2)     #False\n",
    "print(12 not in my_Set2) #True\n",
    "\n"
   ]
  },
  {
   "cell_type": "code",
   "execution_count": 24,
   "id": "e4400775",
   "metadata": {},
   "outputs": [
    {
     "name": "stdout",
     "output_type": "stream",
     "text": [
      "[1, 3, 4]\n"
     ]
    }
   ],
   "source": [
    "# 📐 Mathematical Set Operations\n",
    "\n",
    "# | Operation            | Symbol | Meaning                      | Python Code       |     |\n",
    "# | -------------------- | ------ | ---------------------------- | ----------------- | --- |\n",
    "# | Union                | ∪      | All elements from both sets  | \\`A               | B\\` |\n",
    "# | Intersection         | ∩      | Only common elements         | `A & B`           |     |\n",
    "# | Difference           | −      | In A but not in B            | `A - B`           |     |\n",
    "# | Symmetric Difference | △      | In A or B but not both       | `A ^ B`           |     |\n",
    "# | Subset               | ⊆      | A is contained in B          | `A.issubset(B)`   |     |\n",
    "# | Superset             | ⊇      | A contains all elements of B | `A.issuperset(B)` |     |\n",
    "# | Disjoint             | —      | No common elements           | `A.isdisjoint(B)` |     |\n",
    "set1 = {1, 2, 3, 4, 5, 6}\n",
    "set2 = {4, 5, 6, 7, 8, 9}\n",
    "\n",
    "set1.union(set2)  # {1, 2, 3, 4, 5, 6, 7, 8, 9}\n",
    "set1.intersection(set2)  # {4, 5, 6}\n",
    "set1.intersection_update(set2) \n",
    "set1.difference(set2)  # {1, 2, 3}\n",
    "set1.difference_update(set2)\n",
    "set1.symmetric_difference(set2)  # {1, 2, 3, 7, 8, 9}\n",
    "\n",
    "# ✅ Remove Duplicates from List\n",
    "my_list = [1, 4, 3, 4]\n",
    "unique_list = list(set(my_list))\n",
    "print(unique_list)  # ➞ [1, 3, 4] or in any order (sets are unordered)\n"
   ]
  }
 ],
 "metadata": {
  "kernelspec": {
   "display_name": "Python 3",
   "language": "python",
   "name": "python3"
  },
  "language_info": {
   "codemirror_mode": {
    "name": "ipython",
    "version": 3
   },
   "file_extension": ".py",
   "mimetype": "text/x-python",
   "name": "python",
   "nbconvert_exporter": "python",
   "pygments_lexer": "ipython3",
   "version": "3.10.16"
  }
 },
 "nbformat": 4,
 "nbformat_minor": 5
}
