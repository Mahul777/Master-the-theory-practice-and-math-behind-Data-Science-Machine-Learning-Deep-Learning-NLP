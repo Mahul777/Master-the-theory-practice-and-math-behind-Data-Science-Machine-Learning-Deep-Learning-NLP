{
 "cells": [
  {
   "cell_type": "code",
   "execution_count": 1,
   "id": "18507976",
   "metadata": {},
   "outputs": [
    {
     "name": "stdout",
     "output_type": "stream",
     "text": [
      "Krish\n",
      "Naik\n"
     ]
    }
   ],
   "source": [
    "# Basic Syntax Rules In Python\n",
    "# Case sensitivity- Python is case sensitive\n",
    "\n",
    "name = \"Krish\"\n",
    "Name = \"Naik\"\n",
    "\n",
    "print(name)\n",
    "print(Name)"
   ]
  },
  {
   "cell_type": "code",
   "execution_count": 2,
   "id": "5e50dc3a",
   "metadata": {},
   "outputs": [
    {
     "name": "stdout",
     "output_type": "stream",
     "text": [
      "32\n",
      "32\n"
     ]
    }
   ],
   "source": [
    "# Indentation\n",
    "# Python uses indentation to define blocks of code. Consistent use of spaces (commonly 4) or a tab is required.\n",
    "\n",
    "age = 32\n",
    "if age > 30:\n",
    "    print(age)\n",
    "\n",
    "print(age)"
   ]
  },
  {
   "cell_type": "code",
   "execution_count": null,
   "id": "90b8c182",
   "metadata": {},
   "outputs": [
    {
     "name": "stdout",
     "output_type": "stream",
     "text": [
      "36\n"
     ]
    }
   ],
   "source": [
    "## Line Continuation\n",
    "##•\tUse a backslash (\\) at the end of the line to continue it on the next line.\n",
    "total = 1 + 2 + 3 + 4 + 5 + \\\n",
    "\t        6 + 7 + 8\n",
    "print(total)\n"
   ]
  },
  {
   "cell_type": "code",
   "execution_count": 4,
   "id": "57305eab",
   "metadata": {},
   "outputs": [
    {
     "name": "stdout",
     "output_type": "stream",
     "text": [
      "15\n"
     ]
    }
   ],
   "source": [
    "##Multiple Statements in One Line\n",
    "##You can write multiple Python statements on a single line using a semicolon ;\n",
    "x = 5; y = 10; z = x + y\n",
    "print(z)  \n",
    "\n"
   ]
  },
  {
   "cell_type": "code",
   "execution_count": null,
   "id": "00291c05",
   "metadata": {},
   "outputs": [
    {
     "name": "stdout",
     "output_type": "stream",
     "text": [
      "<class 'int'>\n",
      "<class 'str'>\n"
     ]
    }
   ],
   "source": [
    "# Understand Semantics In Python\n",
    "# variable assignment\n",
    "age = 32  ## age is an integer\n",
    "name = \"Krish\"  ## name is a string\n",
    "#Type Inference\n",
    "print(type(age))\n",
    "print(type(name))"
   ]
  },
  {
   "cell_type": "code",
   "execution_count": 8,
   "id": "bc422d42",
   "metadata": {},
   "outputs": [
    {
     "name": "stdout",
     "output_type": "stream",
     "text": [
      "32\n"
     ]
    }
   ],
   "source": [
    "age = 32\n",
    "if age > 30:\n",
    "    print(age)"
   ]
  },
  {
   "cell_type": "code",
   "execution_count": 9,
   "id": "1b06ad6a",
   "metadata": {},
   "outputs": [
    {
     "name": "stdout",
     "output_type": "stream",
     "text": [
      "Correct Indentation\n",
      "This will print\n",
      "Outside the if block\n"
     ]
    }
   ],
   "source": [
    "# Code examples of indentation\n",
    "if True:\n",
    "    print(\"Correct Indentation\")\n",
    "    if False:\n",
    "        print(\"This wont print\")\n",
    "    print(\"This will print\")\n",
    "print(\"Outside the if block\")"
   ]
  }
 ],
 "metadata": {
  "kernelspec": {
   "display_name": "Python 3",
   "language": "python",
   "name": "python3"
  },
  "language_info": {
   "codemirror_mode": {
    "name": "ipython",
    "version": 3
   },
   "file_extension": ".py",
   "mimetype": "text/x-python",
   "name": "python",
   "nbconvert_exporter": "python",
   "pygments_lexer": "ipython3",
   "version": "3.10.16"
  }
 },
 "nbformat": 4,
 "nbformat_minor": 5
}
