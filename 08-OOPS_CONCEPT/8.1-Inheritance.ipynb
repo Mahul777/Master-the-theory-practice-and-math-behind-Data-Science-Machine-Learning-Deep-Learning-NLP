{
 "cells": [
  {
   "cell_type": "markdown",
   "id": "0c8b008b",
   "metadata": {},
   "source": [
    "📌 What is Inheritance?\n",
    "•\tA key concept in Object-Oriented Programming (OOP).\n",
    "•\tLets a child class reuse code (attributes and methods) from a parent class.\n",
    "•\t🔁 Real-life example: A child inherits property from parents (but not vice versa).\n",
    "🛠 Why Use Inheritance?\n",
    "•\t✅ Avoid writing the same code again (code reuse).\n",
    "•\t✅ Keep your code organized (parent-child relationship).\n",
    "•\t✅ Add new features in the child class while reusing parent class features.\n"
   ]
  },
  {
   "cell_type": "code",
   "execution_count": null,
   "id": "ec0d13ff",
   "metadata": {},
   "outputs": [
    {
     "name": "stdout",
     "output_type": "stream",
     "text": [
      "The person will drive Petrol car \n",
      "Tesla supports self-driving: True\n",
      "The person will drive Electric car \n"
     ]
    }
   ],
   "source": [
    "# Parent Class\n",
    "class Car():\n",
    "    #Constructor\n",
    "    def __init__(self,window,door,engine_type):\n",
    "        self.window=window\n",
    "        self.door = door\n",
    "        self.engine_type = engine_type\n",
    "    #Method\n",
    "    def self(self):\n",
    "        print(f\"The person will drive {self.engine_type} car \")\n",
    "car1 = Car(4,2,\"Petrol\")\n",
    "car1.self()\n",
    "\n",
    "#Child class inherit from parent class Car\n",
    "class Tesla(Car):\n",
    "    #Constructor\n",
    "    def __init__(self, windows, doors, engine_type, is_self_driving):\n",
    "        # Call the parent class (Car) constructor to initialize windows, doors, and engine_type\n",
    "        super().__init__(windows, doors, engine_type)\n",
    "        # Add an additional attribute specific to Tesla\n",
    "        self.is_self_driving = is_self_driving  # Boolean indicating self-driving capability\n",
    "\n",
    "    def self_drive(self):\n",
    "        # Method to display if the Tesla supports self-driving\n",
    "        print(f\"Tesla supports self-driving: {self.is_self_driving}\")\n",
    "\n",
    "# Create an instance of Tesla with 4 windows, 5 doors, an Electric engine, and self-driving enabled\n",
    "tesla1 = Tesla(4, 5, \"Electric\", True)\n",
    "tesla1.self_drive()   # Output: Tesla supports self-driving: True\n",
    "tesla1.self()         # Output: The person will drive the Electric car\n"
   ]
  },
  {
   "cell_type": "markdown",
   "id": "72f12574",
   "metadata": {},
   "source": [
    "✅ Key Takeaways (Single Inheritance)\n",
    "•\tSyntax: class Child(Parent)\n",
    "•\tUse super().__init__() to reuse parent’s constructor.\n",
    "•\tThe child class:\n",
    "o\t✅ Uses parent methods/attributes\n",
    "o\t➕ Adds its own custom features\n",
    "•\t✔️ This is called Single Inheritance\n",
    "🧬 Multiple Inheritance in Python\n",
    "(Combining Features from More Than One Class)\n",
    "📌 What is Multiple Inheritance?\n",
    "•\tA child class inherits from two or more parent classes.\n",
    "•\tLets you combine different sets of features into one class.\n",
    "🐾 Step-by-Step Example\n"
   ]
  },
  {
   "cell_type": "code",
   "execution_count": 6,
   "id": "fa3570f0",
   "metadata": {},
   "outputs": [
    {
     "name": "stdout",
     "output_type": "stream",
     "text": [
      "Buddy says Woof\n",
      "Krish\n"
     ]
    }
   ],
   "source": [
    "# Define a base class Animal\n",
    "class Animal:\n",
    "    def __init__(self, name):\n",
    "        self.name = name  # Every animal has a name\n",
    "\n",
    "    def speak(self):\n",
    "        # This is a placeholder method meant to be overridden by subclasses\n",
    "        print(\"Subclasses must implement this method.\")\n",
    "\n",
    "# Define another base class Pet\n",
    "class Pet:\n",
    "    def __init__(self, owner):\n",
    "        self.owner = owner  # Every pet has an owner\n",
    "\n",
    "# Dog inherits from both Animal and Pet (Multiple Inheritance)\n",
    "class Dog(Animal, Pet):\n",
    "    def __init__(self, name, owner):\n",
    "        # Explicitly call the constructors of both parent classes\n",
    "        Animal.__init__(self, name)\n",
    "        Pet.__init__(self, owner)\n",
    "\n",
    "    def speak(self):\n",
    "        # Override the speak method of Animal to provide specific behavior for Dog\n",
    "        return f\"{self.name} says Woof\"\n",
    "\n",
    "# Create an instance of Dog\n",
    "dog = Dog(\"Buddy\", \"Krish\")\n",
    "\n",
    "# Call the overridden speak method\n",
    "print(dog.speak())  # Output: Buddy says Woof\n",
    "\n",
    "# Access the owner attribute from the Pet class\n",
    "print(dog.owner)    # Output: Krish\n"
   ]
  },
  {
   "cell_type": "code",
   "execution_count": 8,
   "id": "44e6f8dd",
   "metadata": {},
   "outputs": [
    {
     "name": "stdout",
     "output_type": "stream",
     "text": [
      "Woof\n",
      "Meow\n"
     ]
    }
   ],
   "source": [
    "class Animal:\n",
    "    def speak(self):\n",
    "        return \"Sound of the animal\"\n",
    "\n",
    "\n",
    "class Dog(Animal):\n",
    "    def speak(self):\n",
    "        return \"Woof\"\n",
    "\n",
    "\n",
    "class Cat(Animal):\n",
    "    def speak(self):\n",
    "        return \"Meow\"\n",
    "\n",
    "\n",
    "def animal_speak(animal):\n",
    "    print(animal.speak())  # Calls the speak method of the passed animal\n",
    "\n",
    "\n",
    "# Create instances\n",
    "dog = Dog()\n",
    "cat = Cat()\n",
    "\n",
    "# Invoke polymorphic behavior\n",
    "animal_speak(dog)  # Output: Woof\n",
    "animal_speak(cat)  # Output: Meow\n"
   ]
  },
  {
   "cell_type": "code",
   "execution_count": 7,
   "id": "f5e0cca3",
   "metadata": {},
   "outputs": [
    {
     "name": "stdout",
     "output_type": "stream",
     "text": [
      "The area is: 20\n",
      "The area is: 28.259999999999998\n"
     ]
    }
   ],
   "source": [
    "class Shape:\n",
    "    def area(self):\n",
    "        print(\"Area of shape\")\n",
    "\n",
    "\n",
    "class Rectangle(Shape):\n",
    "    def __init__(self, width, height):\n",
    "        self.width = width\n",
    "        self.height = height\n",
    "\n",
    "    def area(self):\n",
    "        return self.width * self.height\n",
    "\n",
    "\n",
    "class Circle(Shape):\n",
    "    def __init__(self, radius):\n",
    "        self.radius = radius\n",
    "\n",
    "    def area(self):\n",
    "        return 3.14 * self.radius * self.radius\n",
    "\n",
    "\n",
    "def print_area(shape):\n",
    "    print(f\"The area is: {shape.area()}\")\n",
    "\n",
    "\n",
    "# Create instances\n",
    "r = Rectangle(4, 5)\n",
    "c = Circle(3)\n",
    "\n",
    "# Call print_area on both shapes\n",
    "print_area(r)  # Output: The area is: 20\n",
    "print_area(c)  # Output: The area is: 28.26\n"
   ]
  },
  {
   "cell_type": "code",
   "execution_count": 9,
   "id": "631faa37",
   "metadata": {},
   "outputs": [
    {
     "name": "stdout",
     "output_type": "stream",
     "text": [
      "Car engine started\n",
      "Motorcycle engine started\n"
     ]
    }
   ],
   "source": [
    "from abc import ABC, abstractmethod\n",
    "\n",
    "\n",
    "class Vehicle(ABC):\n",
    "    @abstractmethod\n",
    "    def start_engine(self):\n",
    "        pass\n",
    "\n",
    "\n",
    "class Car(Vehicle):\n",
    "    def start_engine(self):\n",
    "        return \"Car engine started\"\n",
    "\n",
    "\n",
    "class Motorcycle(Vehicle):\n",
    "    def start_engine(self):\n",
    "        return \"Motorcycle engine started\"\n",
    "\n",
    "\n",
    "def start_vehicle(vehicle):\n",
    "    print(vehicle.start_engine())\n",
    "\n",
    "\n",
    "# Create instances\n",
    "car = Car()\n",
    "bike = Motorcycle()\n",
    "\n",
    "# Start the vehicles\n",
    "start_vehicle(car)     # Output: Car engine started\n",
    "start_vehicle(bike)    # Output: Motorcycle engine started\n"
   ]
  }
 ],
 "metadata": {
  "kernelspec": {
   "display_name": "Python 3",
   "language": "python",
   "name": "python3"
  },
  "language_info": {
   "codemirror_mode": {
    "name": "ipython",
    "version": 3
   },
   "file_extension": ".py",
   "mimetype": "text/x-python",
   "name": "python",
   "nbconvert_exporter": "python",
   "pygments_lexer": "ipython3",
   "version": "3.10.16"
  }
 },
 "nbformat": 4,
 "nbformat_minor": 5
}
