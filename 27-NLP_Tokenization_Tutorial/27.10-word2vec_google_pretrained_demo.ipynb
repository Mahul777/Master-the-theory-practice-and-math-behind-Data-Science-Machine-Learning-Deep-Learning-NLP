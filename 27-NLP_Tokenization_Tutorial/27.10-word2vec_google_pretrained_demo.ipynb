{
 "cells": [
  {
   "cell_type": "code",
   "execution_count": null,
   "id": "d3aa26b7",
   "metadata": {},
   "outputs": [],
   "source": [
    "# 📌 Step 1: Install gensim (if not already installed)\n",
    "!pip install gensim\n",
    "\n",
    "# 📌 Step 2: Import required libraries\n",
    "import gensim\n",
    "import numpy as np\n",
    "from gensim.models import KeyedVectors\n",
    "import gensim.downloader as api\n",
    "\n",
    "# 📌 Step 3: Load the pre-trained Google News Word2Vec model\n",
    "# ⚠️ This will download a ~1.6GB model. Takes time and needs internet connection.\n",
    "wv = api.load(\"word2vec-google-news-300\")\n",
    "\n",
    "# ✅ Now wv contains the Word2Vec vectors\n",
    "\n",
    "# 📌 Step 4: Get the vector for a word (e.g., 'king')\n",
    "vector_king = wv[\"king\"]\n",
    "print(\"Shape of 'king' vector:\", vector_king.shape)\n",
    "print(\"First 10 elements of 'king' vector:\\n\", vector_king[:10])\n",
    "\n",
    "# 📌 Step 5: Get vector for another word (e.g., 'cricket')\n",
    "vector_cricket = wv[\"cricket\"]\n",
    "print(\"\\nShape of 'cricket' vector:\", vector_cricket.shape)\n",
    "\n",
    "# 📌 Step 6: Most similar words to 'cricket'\n",
    "similar_to_cricket = wv.most_similar(\"cricket\")\n",
    "print(\"\\nTop 5 similar words to 'cricket':\")\n",
    "for word, score in similar_to_cricket[:5]:\n",
    "    print(f\"{word} --> Similarity: {round(score, 2)}\")\n",
    "\n",
    "# 📌 Step 7: Most similar words to 'happy'\n",
    "similar_to_happy = wv.most_similar(\"happy\")\n",
    "print(\"\\nTop 5 similar words to 'happy':\")\n",
    "for word, score in similar_to_happy[:5]:\n",
    "    print(f\"{word} --> Similarity: {round(score, 2)}\")\n",
    "\n",
    "# 📌 Step 8: Similarity between two words (e.g., 'hockey' and 'sports')\n",
    "similarity_score = wv.similarity(\"hockey\", \"sports\")\n",
    "print(f\"\\nSimilarity between 'hockey' and 'sports': {round(similarity_score, 2)}\")\n",
    "\n",
    "# 📌 Step 9: Vector Math Example - king - man + woman ≈ queen\n",
    "result = wv.most_similar(positive=[\"woman\", \"king\"], negative=[\"man\"])\n",
    "print(\"\\nResult of vector math 'king - man + woman':\")\n",
    "for word, score in result[:5]:\n",
    "    print(f\"{word} --> Similarity: {round(score, 2)}\")\n",
    "\n",
    "\n"
   ]
  }
 ],
 "metadata": {
  "kernelspec": {
   "display_name": "Python 3",
   "language": "python",
   "name": "python3"
  },
  "language_info": {
   "codemirror_mode": {
    "name": "ipython",
    "version": 3
   },
   "file_extension": ".py",
   "mimetype": "text/x-python",
   "name": "python",
   "nbconvert_exporter": "python",
   "pygments_lexer": "ipython3",
   "version": "3.10.16"
  }
 },
 "nbformat": 4,
 "nbformat_minor": 5
}
