{
 "cells": [
  {
   "cell_type": "code",
   "execution_count": null,
   "id": "ac832b8a",
   "metadata": {},
   "outputs": [
    {
     "name": "stdout",
     "output_type": "stream",
     "text": [
      "16\n",
      "100\n",
      "[1, 4, 9, 16]\n",
      "[1, 4, 9, 16, 25, 36, 49, 64]\n"
     ]
    }
   ],
   "source": [
    "# 🔁 Basic Example Using a Function\n",
    "# 🧠 Step-by-Step:\n",
    "# We define a function that returns the square of a number:\n",
    "\n",
    "def square(num):\n",
    "    return num*num\n",
    "print(square(4))   # Output: 16\n",
    "print(square(10))  # Output: 100\n",
    "\n",
    "# 📋 Suppose We Have a List:\n",
    "numbers=[1,2,3,4]\n",
    "result = map(square,numbers)\n",
    "print(list(result)) #[1, 4, 9, 16]\n",
    "\n",
    "# ⚡ Using map() with Lambda Functions\n",
    "# Instead of defining a separate function like square(), use a lambda function directly:\n",
    "numbers2 = [1, 2, 3, 4, 5, 6, 7, 8]\n",
    "result2 = map(lambda x: x * x, numbers2)\n",
    "print(list(result2)) #[1, 4, 9, 16, 25, 36, 49, 64]\n",
    "\n"
   ]
  },
  {
   "cell_type": "code",
   "execution_count": null,
   "id": "09192ce4",
   "metadata": {},
   "outputs": [
    {
     "name": "stdout",
     "output_type": "stream",
     "text": [
      "[10, 10, 10]\n",
      "[1, 2, 3, 4]\n",
      "['BANANA', 'APPLE', 'MANGO']\n",
      "['Krish', 'Jack']\n"
     ]
    }
   ],
   "source": [
    "# 🔗 Mapping Multiple Iterables\n",
    "# Yes, map() can take multiple lists (or iterables) and apply the function \n",
    "# to corresponding elements from each iterable.\n",
    "\n",
    "numbers1 = [1,2,3]\n",
    "numbers2 = [9,8,7]\n",
    "\n",
    "result =map(lambda x,y: x+y, numbers1,numbers2)\n",
    "print(list(result)) #[10, 10, 10]\n",
    "\n",
    "# 🔄 Converting List of Strings to Integers\n",
    "# You can use map() with the built-in int function to convert strings to integers.\n",
    "string_num = [\"1\",\"2\",\"3\",\"4\"]\n",
    "result = map(int, string_num)\n",
    "print(list(result)) #[1, 2, 3, 4]\n",
    "\n",
    "# 🔤 Converting All Strings to Uppercase\n",
    "# Use map() with the built-in str.upper method to convert all strings to uppercase.\n",
    "string_fruit =[\"banana\",\"apple\",\"mango\"]\n",
    "result = map(str.upper,string_fruit)\n",
    "print(list(result))  #['BANANA', 'APPLE', 'MANGO']\n",
    "\n",
    "# 📚 Using map() with a List of Dictionaries\n",
    "# You can use map() to extract specific values (like names) from a list of dictionaries.\n",
    "people = [\n",
    "    {'name': 'Krish', 'age': 32},\n",
    "    {'name': 'Jack', 'age': 33}\n",
    "]\n",
    "def get_name(person):\n",
    "    return person['name']\n",
    "result = map(get_name, people)\n",
    "print(list(result)) #['Krish', 'Jack']\n",
    "\n"
   ]
  }
 ],
 "metadata": {
  "kernelspec": {
   "display_name": "Python 3",
   "language": "python",
   "name": "python3"
  },
  "language_info": {
   "codemirror_mode": {
    "name": "ipython",
    "version": 3
   },
   "file_extension": ".py",
   "mimetype": "text/x-python",
   "name": "python",
   "nbconvert_exporter": "python",
   "pygments_lexer": "ipython3",
   "version": "3.10.16"
  }
 },
 "nbformat": 4,
 "nbformat_minor": 5
}
