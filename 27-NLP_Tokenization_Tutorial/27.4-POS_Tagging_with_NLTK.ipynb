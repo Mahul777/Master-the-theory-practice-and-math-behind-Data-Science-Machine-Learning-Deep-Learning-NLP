{
 "cells": [
  {
   "cell_type": "code",
   "execution_count": null,
   "id": "f8f69b7c",
   "metadata": {},
   "outputs": [
    {
     "name": "stdout",
     "output_type": "stream",
     "text": [
      "[('three', 'CD'), ('visions', 'NNS'), ('India', 'NNP'), ('.', '.')]\n",
      "[('3000', 'CD'), ('years', 'NNS'), ('history', 'NN'), (',', ','), ('people', 'NNS'), ('world', 'NN'), ('come', 'VBP'), ('invaded', 'VBN'), ('us', 'PRP'), ('...', ':')]\n"
     ]
    },
    {
     "name": "stderr",
     "output_type": "stream",
     "text": [
      "[nltk_data] Downloading package punkt to\n",
      "[nltk_data]     C:\\Users\\sahus\\AppData\\Roaming\\nltk_data...\n",
      "[nltk_data]   Package punkt is already up-to-date!\n",
      "[nltk_data] Downloading package averaged_perceptron_tagger to\n",
      "[nltk_data]     C:\\Users\\sahus\\AppData\\Roaming\\nltk_data...\n",
      "[nltk_data]   Package averaged_perceptron_tagger is already up-to-\n",
      "[nltk_data]       date!\n",
      "[nltk_data] Downloading package averaged_perceptron_tagger_eng to\n",
      "[nltk_data]     C:\\Users\\sahus\\AppData\\Roaming\\nltk_data...\n",
      "[nltk_data]   Package averaged_perceptron_tagger_eng is already up-to-\n",
      "[nltk_data]       date!\n",
      "[nltk_data] Downloading package stopwords to\n",
      "[nltk_data]     C:\\Users\\sahus\\AppData\\Roaming\\nltk_data...\n",
      "[nltk_data]   Package stopwords is already up-to-date!\n"
     ]
    }
   ],
   "source": [
    "# ✅ Step 1: Import Libraries\n",
    "import nltk\n",
    "from nltk.corpus import stopwords\n",
    "from nltk.tokenize import sent_tokenize, word_tokenize\n",
    "# ✔️ nltk is the main library\n",
    "# ✔️ We use stopwords to filter out unimportant words\n",
    "# ✔️ sent_tokenize splits text into sentences\n",
    "# ✔️ word_tokenize splits sentence into words\n",
    "\n",
    "# ✅ Step 2: Download Resources\n",
    "import nltk\n",
    "nltk.download('punkt')\n",
    "nltk.download('averaged_perceptron_tagger')\n",
    "nltk.download('averaged_perceptron_tagger_eng')\n",
    "nltk.download('stopwords')\n",
    "# ✔️ These are required for tokenizing and POS tagging\n",
    "# ✔️ averaged_perceptron_tagger is the model used for tagging words\n",
    "\n",
    "# ✅ Step 3: Use a Paragraph\n",
    "paragraph = \"I have three visions for India. In 3000 years of our history, people from all over the world have come and invaded us...\"\n",
    "# ✔️ This is a sample speech text (like from Dr. APJ Abdul Kalam)\n",
    "# ✔️ We'll split and analyze it\n",
    "\n",
    "# ✅ Step 4: Split Paragraph into Sentences\n",
    "sentences = nltk.sent_tokenize(paragraph)\n",
    "sentences\n",
    "# ['I have three visions for India.',\n",
    "#  'In 3000 years of our history, people from all over the world have come and invaded us...']\n",
    "# ✔️Explanation:  Breaks the paragraph into separate sentences\n",
    "\n",
    "# ✅ Step 5: Loop Through Sentences\n",
    "for sentence in sentences:\n",
    "    words = nltk.word_tokenize(sentence)\n",
    "    words = [word for word in words if word.lower() not in stopwords.words('english')]\n",
    "    tagged_words = nltk.pos_tag(words)\n",
    "    print(tagged_words)\n",
    "# [('three', 'CD'), ('visions', 'NNS'), ('India', 'NNP'), ('.', '.')]\n",
    "# [('3000', 'CD'), ('years', 'NNS'), ('history', 'NN'), (',', ','), ('people', 'NNS'), ('world', 'NN'), ('come', 'VBP'), ('invaded', 'VBN'), ('us', 'PRP'), ('...', ':')]\n",
    "\n",
    "# 🔹 Breakdown:\n",
    "# •\t🔸 word_tokenize(sentence) → Break sentence into words\n",
    "# •\t🔸 if word.lower() not in stopwords... → Remove stop words like \"is\", \"the\", \"a\", etc.\n",
    "# •\t🔸 nltk.pos_tag(words) → Apply POS tag to the words\n",
    "# •\t🔸 print(tagged_words) → Show result\n",
    "# tagged_words->it show all tags assigned to each word \n",
    "\n",
    "\n",
    "\n",
    "\n",
    "\n",
    "\n"
   ]
  }
 ],
 "metadata": {
  "kernelspec": {
   "display_name": "Python 3",
   "language": "python",
   "name": "python3"
  },
  "language_info": {
   "codemirror_mode": {
    "name": "ipython",
    "version": 3
   },
   "file_extension": ".py",
   "mimetype": "text/x-python",
   "name": "python",
   "nbconvert_exporter": "python",
   "pygments_lexer": "ipython3",
   "version": "3.10.16"
  }
 },
 "nbformat": 4,
 "nbformat_minor": 5
}
