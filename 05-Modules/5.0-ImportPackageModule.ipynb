{
 "cells": [
  {
   "cell_type": "code",
   "execution_count": null,
   "id": "1a29c4b4",
   "metadata": {},
   "outputs": [
    {
     "name": "stdout",
     "output_type": "stream",
     "text": [
      "4.0\n",
      "4.0\n",
      "3.141592653589793\n",
      "5.0\n"
     ]
    }
   ],
   "source": [
    "# 🧠 What Are Modules and Packages?\n",
    "# •\tModules are just Python files (.py) that contain functions and code.\n",
    "# •\tPackages are folders that contain multiple modules (Python files).\n",
    "# •\tThey help you organize, reuse, and share your code easily.\n",
    "# •\tPython has built-in packages (like math) and also external packages (like numpy).\n",
    "\n",
    "# 🔧 How to Import a Built-in Module in Python\n",
    "# ✅ Import the whole module:\n",
    "import math\n",
    "print(math.sqrt(16)) #4.0\n",
    "\n",
    "# ✅ Import specific functions or variables:\n",
    "from math import pi, sqrt\n",
    "print(math.sqrt(16))  #4.0\n",
    "print(math.pi)       #3.141592653589793\n",
    "\n",
    "# ✅ Import everything from the module (not recommended for large modules):\n",
    "from math import *\n",
    "print(math.sqrt(25)) #5.0\n",
    "\n",
    "\n"
   ]
  },
  {
   "cell_type": "code",
   "execution_count": 13,
   "id": "389e4e58",
   "metadata": {},
   "outputs": [
    {
     "name": "stdout",
     "output_type": "stream",
     "text": [
      "[1 2 3]\n"
     ]
    }
   ],
   "source": [
    "import numpy as np\n",
    "array = np.array([1,2,3])\n",
    "print(array)     #[1 2 3]\n",
    "\n",
    "\n",
    "\n"
   ]
  },
  {
   "cell_type": "code",
   "execution_count": 20,
   "id": "fc892000",
   "metadata": {},
   "outputs": [
    {
     "name": "stdout",
     "output_type": "stream",
     "text": [
      "c:\\Users\\sahus\\OneDrive\\Desktop\\Complete Data Science\\05-Modules\\package\\math.py\n",
      "5\n"
     ]
    }
   ],
   "source": [
    "import package.math\n",
    "print(package.math.__file__)\n",
    "\n",
    "from package.mymath import addition\n",
    "\n",
    "print(addition(2, 3))  # Output: 5\n",
    "\n",
    "\n"
   ]
  }
 ],
 "metadata": {
  "kernelspec": {
   "display_name": "Python 3",
   "language": "python",
   "name": "python3"
  },
  "language_info": {
   "codemirror_mode": {
    "name": "ipython",
    "version": 3
   },
   "file_extension": ".py",
   "mimetype": "text/x-python",
   "name": "python",
   "nbconvert_exporter": "python",
   "pygments_lexer": "ipython3",
   "version": "3.10.16"
  }
 },
 "nbformat": 4,
 "nbformat_minor": 5
}
