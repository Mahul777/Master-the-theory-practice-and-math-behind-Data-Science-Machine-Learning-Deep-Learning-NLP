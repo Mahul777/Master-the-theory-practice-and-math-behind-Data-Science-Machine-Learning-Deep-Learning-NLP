{
 "cells": [
  {
   "cell_type": "markdown",
   "id": "899ba7aa",
   "metadata": {},
   "source": [
    "\n",
    " ✅ What is Exception Handling?\n",
    " •\tA way to catch and handle errors in your program.\n",
    " •\tPrevents your program from crashing unexpectedly.\n",
    " •\tMakes your code more robust and user-friendly.\n",
    " ✅ Why Use It?\n",
    " •\tShow clear error messages to the user.\n",
    " •\tHelps debug and fix problems faster.\n",
    " •\tKeeps programs running even when something goes wrong.\n",
    " ✅ Key Components in Exception Handling\n",
    " Block\tPurpose\n",
    " try\tCode that might raise an error\n",
    " except\tCode that runs if an error occurs in the try block\n",
    " else\tRuns only if no error occurred in the try block\n",
    " finally\tAlways runs, whether there was an error or not — used for cleanup actions"
   ]
  },
  {
   "cell_type": "code",
   "execution_count": 2,
   "id": "9a5b1e65",
   "metadata": {},
   "outputs": [
    {
     "name": "stdout",
     "output_type": "stream",
     "text": [
      "The Variable is not Assigned\n"
     ]
    }
   ],
   "source": [
    "# a=b  #NameError: name 'b' is not defined\n",
    "#✅ Example 1: Basic Try-Except\n",
    "try:\n",
    "    a=b # This will raise a NameError\n",
    "except:\n",
    "    print(\"The Variable is not Assigned\")"
   ]
  },
  {
   "cell_type": "code",
   "execution_count": null,
   "id": "d061c9d2",
   "metadata": {},
   "outputs": [
    {
     "name": "stdout",
     "output_type": "stream",
     "text": [
      "name 'b' is not defined\n"
     ]
    }
   ],
   "source": [
    "#a=b #NameError: name 'b' is not defined\n",
    "try:\n",
    "    a=b \n",
    "except NameError as ex:\n",
    "    print(ex) #name 'b' is not defined"
   ]
  },
  {
   "cell_type": "code",
   "execution_count": 16,
   "id": "2b4630b9",
   "metadata": {},
   "outputs": [
    {
     "name": "stdout",
     "output_type": "stream",
     "text": [
      "division by zero\n",
      "Please enter denominator greator than zero\n"
     ]
    }
   ],
   "source": [
    "#result =1/0  # ZeroDivisionError: division by zero\n",
    "#print(result)\n",
    "try:\n",
    "    result = 1/0\n",
    "    a=b\n",
    "except ZeroDivisionError as ex:\n",
    "    print(ex)\n",
    "    print(\"Please enter denominator greator than zero\")\n",
    "except Exception as ex1:\n",
    "    print(ex1)"
   ]
  },
  {
   "cell_type": "code",
   "execution_count": 20,
   "id": "0bcdd11b",
   "metadata": {},
   "outputs": [],
   "source": [
    "# ✅ Example 3: Multiple Exceptions\n",
    "try:\n",
    "    num = int(input(\"Enter a number: \"))\n",
    "    result = 10 / num\n",
    "except ValueError:\n",
    "    print(\"Not a valid number\")\n",
    "except ZeroDivisionError:\n",
    "    print(\"Enter a number greater than 0\")\n",
    "except Exception as x:\n",
    "    print(x)\n"
   ]
  },
  {
   "cell_type": "code",
   "execution_count": 22,
   "id": "074b14f4",
   "metadata": {},
   "outputs": [
    {
     "name": "stdout",
     "output_type": "stream",
     "text": [
      "The result is: 3.3333333333333335\n"
     ]
    }
   ],
   "source": [
    "# ✅ Example 4: Using else with try-except\n",
    "try:\n",
    "    num = int(input(\"Enter a number: \"))\n",
    "    result = 10 / num\n",
    "except Exception as e:\n",
    "    print(\"Error:\", e)\n",
    "else:\n",
    "    print(\"The result is:\", result)\n"
   ]
  },
  {
   "cell_type": "code",
   "execution_count": 25,
   "id": "e13f7047",
   "metadata": {},
   "outputs": [
    {
     "name": "stdout",
     "output_type": "stream",
     "text": [
      "The result is: 0.45454545454545453\n",
      "This block always runs.\n"
     ]
    }
   ],
   "source": [
    "# ✅ Example 5: Using finally\n",
    "try:\n",
    "    num = int(input(\"Enter a number: \"))\n",
    "    result = 10 / num\n",
    "except Exception as e:\n",
    "    print(\"Error:\", e)\n",
    "else:\n",
    "    print(\"The result is:\", result)\n",
    "finally:\n",
    "    print(\"This block always runs.\")\n"
   ]
  }
 ],
 "metadata": {
  "kernelspec": {
   "display_name": "Python 3",
   "language": "python",
   "name": "python3"
  },
  "language_info": {
   "codemirror_mode": {
    "name": "ipython",
    "version": 3
   },
   "file_extension": ".py",
   "mimetype": "text/x-python",
   "name": "python",
   "nbconvert_exporter": "python",
   "pygments_lexer": "ipython3",
   "version": "3.10.16"
  }
 },
 "nbformat": 4,
 "nbformat_minor": 5
}
