{
 "cells": [
  {
   "cell_type": "code",
   "execution_count": 2,
   "id": "f2568e9d",
   "metadata": {},
   "outputs": [],
   "source": [
    "a=100"
   ]
  },
  {
   "cell_type": "code",
   "execution_count": 5,
   "id": "8c613ec8",
   "metadata": {},
   "outputs": [
    {
     "name": "stdout",
     "output_type": "stream",
     "text": [
      "Age: 32\n",
      "Height: 6.1\n",
      "Name: Crush\n"
     ]
    }
   ],
   "source": [
    "## Declaring and Assigning Variables\n",
    "age = 32         # integer\n",
    "height = 6.1     # float\n",
    "name = \"Crush\"   # string\n",
    "is_student = True  # boolean\n",
    "#🖨️ Printing Variables\n",
    "print(\"Age:\", age)\n",
    "print(\"Height:\", height)\n",
    "print(\"Name:\", name)\n",
    "\n"
   ]
  },
  {
   "cell_type": "code",
   "execution_count": null,
   "id": "897349b6",
   "metadata": {},
   "outputs": [],
   "source": [
    "##Variable Naming Conventions\n",
    "\n",
    "##Valid Examples:\n",
    "first_name = \"Crush\"\n",
    "last_name = \"Nick\"\n",
    "\n",
    "##Invalid Examples:\n",
    "1age = 30         # starts with a number\n",
    "first-name = \"Crush\"  # uses a dash\n",
    "@name = \"Nick\"    # uses a symbol\n",
    "\n"
   ]
  },
  {
   "cell_type": "code",
   "execution_count": 6,
   "id": "ccdec47b",
   "metadata": {},
   "outputs": [
    {
     "name": "stdout",
     "output_type": "stream",
     "text": [
      "Type of age: <class 'int'>\n",
      "Type of height: <class 'float'>\n",
      "Type of name: <class 'str'>\n",
      "Type of is_student: <class 'bool'>\n"
     ]
    }
   ],
   "source": [
    "##Understanding Variable Types\n",
    "age = 25           # int\n",
    "height = 6.1       # float\n",
    "name = \"Krish\"     # str\n",
    "is_student = True  # bool\n",
    "#🖨️ Printing Variable Types\n",
    "print(\"Type of age:\", type(age))\n",
    "print(\"Type of height:\", type(height))  \n",
    "print(\"Type of name:\", type(name))\n",
    "print(\"Type of is_student:\", type(is_student))"
   ]
  },
  {
   "cell_type": "code",
   "execution_count": 7,
   "id": "f10f4887",
   "metadata": {},
   "outputs": [
    {
     "name": "stdout",
     "output_type": "stream",
     "text": [
      "<class 'str'>\n"
     ]
    }
   ],
   "source": [
    "##🔁 Type Checking & Conversion\n",
    "age = 25\n",
    "age_str = str(age)\n",
    "print(type(age_str))  # <class 'str'>\n"
   ]
  },
  {
   "cell_type": "code",
   "execution_count": null,
   "id": "2abad228",
   "metadata": {},
   "outputs": [
    {
     "name": "stdout",
     "output_type": "stream",
     "text": [
      "25\n",
      "5\n"
     ]
    }
   ],
   "source": [
    "##Example 2: Convert str to int\n",
    "age = \"25\"\n",
    "print(int(age))  # 25\n",
    "##⚠️ Invalid Conversion:\n",
    "name = \"Krish\"\n",
    "print(int(name))  # ❌ Error: Can't convert words to numbers\n",
    "\n",
    "#Example 3: Convert float to int\n",
    "height = 5.9\n",
    "print(int(height))  # 5 → decimals are removed\n",
    "\n"
   ]
  },
  {
   "cell_type": "code",
   "execution_count": 11,
   "id": "2c5ddd22",
   "metadata": {},
   "outputs": [
    {
     "name": "stdout",
     "output_type": "stream",
     "text": [
      "<class 'int'>\n",
      "<class 'str'>\n",
      "<class 'float'>\n"
     ]
    }
   ],
   "source": [
    "#🔄 Dynamic Typing in Python\n",
    "#•\tPython allows a variable’s type to change during execution.\n",
    "var = 10          # int\n",
    "print(type(var))\n",
    "\n",
    "var = \"Hello\"     # str\n",
    "print(type(var))\n",
    "\n",
    "var = 3.14        # float\n",
    "print(type(var))\n",
    "\n"
   ]
  },
  {
   "cell_type": "code",
   "execution_count": 12,
   "id": "000d7135",
   "metadata": {},
   "outputs": [
    {
     "name": "stdout",
     "output_type": "stream",
     "text": [
      "22\n",
      "<class 'str'>\n",
      "<class 'int'>\n"
     ]
    }
   ],
   "source": [
    "age = input(\"What is your age? \")\n",
    "print(age)\n",
    "print(type(age))  # always string by default because Since input() always gives a string, \n",
    "## To convert input:\n",
    "age = int(input(\"What is your age? \"))\n",
    "print(type(age))  # now int\n"
   ]
  },
  {
   "cell_type": "code",
   "execution_count": null,
   "id": "d7332e4a",
   "metadata": {},
   "outputs": [
    {
     "name": "stdout",
     "output_type": "stream",
     "text": [
      "Sum: 55\n",
      "Difference: -11\n",
      "Product: 726\n",
      "Quotient: 0.6666666666666666\n"
     ]
    }
   ],
   "source": [
    "##Simple Calculator Example\n",
    "num1 = int(input(\"Enter first number: \"))\n",
    "num2 = int(input(\"Enter second number: \"))\n",
    "\n",
    "sum_ = num1 + num2\n",
    "diff = num1 - num2\n",
    "product = num1 * num2\n",
    "quotient = num1 / num2\n",
    "\n",
    "print(\"Sum:\", sum_)\n",
    "print(\"Difference:\", diff)\n",
    "print(\"Product:\", product)\n",
    "print(\"Quotient:\", quotient)"
   ]
  }
 ],
 "metadata": {
  "kernelspec": {
   "display_name": "Python 3",
   "language": "python",
   "name": "python3"
  },
  "language_info": {
   "codemirror_mode": {
    "name": "ipython",
    "version": 3
   },
   "file_extension": ".py",
   "mimetype": "text/x-python",
   "name": "python",
   "nbconvert_exporter": "python",
   "pygments_lexer": "ipython3",
   "version": "3.10.16"
  }
 },
 "nbformat": 4,
 "nbformat_minor": 5
}
