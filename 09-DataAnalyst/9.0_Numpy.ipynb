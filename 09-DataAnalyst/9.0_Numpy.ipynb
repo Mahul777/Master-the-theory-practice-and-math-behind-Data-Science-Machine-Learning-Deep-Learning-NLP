{
 "cells": [
  {
   "cell_type": "markdown",
   "id": "c24ad019",
   "metadata": {},
   "source": [
    "✅ Introduction to NumPy\n",
    "•\tNumPy is a very important Python library used for scientific computing.\n",
    "•\tIt is mainly used for arrays, matrices, and fast mathematical operations.\n",
    "•\tNumPy is also heavily used in machine learning and deep learning.\n"
   ]
  },
  {
   "cell_type": "code",
   "execution_count": 8,
   "id": "10f24eb9",
   "metadata": {},
   "outputs": [
    {
     "name": "stdout",
     "output_type": "stream",
     "text": [
      "[1 2 3]\n",
      "<class 'numpy.ndarray'>\n",
      "(3,)\n",
      "[[1 2 3]]\n"
     ]
    },
    {
     "data": {
      "text/plain": [
       "(2, 5)"
      ]
     },
     "execution_count": 8,
     "metadata": {},
     "output_type": "execute_result"
    }
   ],
   "source": [
    "#Creating array using numpy\n",
    "import numpy as np\n",
    "#Creating a 1D array\n",
    "arr1 = np.array([1,2,3])\n",
    "print(arr1) #[1 2 3]\n",
    "print(type(arr1)) #<class 'numpy.ndarray'>\n",
    "print(arr1.shape) #(3,) #1D array with 3 elements\n",
    "\n",
    "#Converting 1D array to 2D array\n",
    "arr2 = arr1.reshape(1,3)\n",
    "print(arr2) #[[1 2 3]] # 2D array with 1 row and 3 columns\n",
    "\n",
    "# 2D Array example:\n",
    "arr3 = np.array([[1, 2, 3, 4, 5], [2, 3, 4, 5,6]])\n",
    "arr3.shape  # (2, 5)\n",
    "\n"
   ]
  },
  {
   "cell_type": "code",
   "execution_count": null,
   "id": "0b20630f",
   "metadata": {},
   "outputs": [
    {
     "data": {
      "text/plain": [
       "array([[1., 0., 0.],\n",
       "       [0., 1., 0.],\n",
       "       [0., 0., 1.]])"
      ]
     },
     "execution_count": 20,
     "metadata": {},
     "output_type": "execute_result"
    }
   ],
   "source": [
    "# 🧮 Array Creation Functions\n",
    "\n",
    "import numpy as np\n",
    "\n",
    "# 1. np.arange\n",
    "# syntax: np.arange(start, stop, step)\n",
    "np.arange(0, 10, 2)  \n",
    "# Output: array([0, 2, 4, 6, 8])\n",
    "\n",
    "# 2. Create matrix of ones\n",
    "# syntax: np.ones((rows, columns))  \n",
    "np.ones((3, 3))  \n",
    "# Output: \n",
    "# array([[1., 1., 1.],\n",
    "#        [1., 1., 1.],\n",
    "#        [1., 1., 1.]])\n",
    "\n",
    "# 3. np.eye(n): Creates an identity matrix (1s on the diagonal)\n",
    "np.eye(3)\n",
    "# Output:\n",
    "# array([[1., 0., 0.],\n",
    "#        [0., 1., 0.],\n",
    "#        [0., 0., 1.]])\n",
    "\n",
    "\n"
   ]
  },
  {
   "cell_type": "code",
   "execution_count": null,
   "id": "f27d2a1f",
   "metadata": {},
   "outputs": [
    {
     "name": "stdout",
     "output_type": "stream",
     "text": [
      "Array:\n",
      " [[1 2 3]\n",
      " [4 5 6]]\n",
      "Shape: (2, 3)\n",
      "Number of dimensions: 2\n",
      "Size (number of elements): 6\n",
      "Data type: int64\n",
      "Item size (in bytes): 8\n"
     ]
    }
   ],
   "source": [
    "# 📊 Array Attributes\n",
    "# For any array arr, you can use:\n",
    "# •\tarr.shape: Shape of the array\n",
    "# •\tarr.ndim: Number of dimensions\n",
    "# •\tarr.size: Number of elements\n",
    "# •\tarr.dtype: Data type (like int32, float64)\n",
    "# •\tarr.itemsize: Size in bytes of one element\n",
    "arr = np.array([[1, 2, 3], [4, 5, 6]])\n",
    "\n",
    "print(\"Array:\\n\", arr) # Output: [[1 2 3] [4 5 6]]\n",
    "print(\"Shape:\", arr.shape)  # Output: (2, 3) \n",
    "print(\"Number of dimensions:\", arr.ndim)  # Output: 2\n",
    "print(\"Size (number of elements):\", arr.size)  # Output: 6\n",
    "print(\"Data type:\", arr.dtype)  # Output: int32 (may vary based on platform)\n",
    "print(\"Item size (in bytes):\", arr.itemsize)  # Output: 8 (may vary based on platform)"
   ]
  },
  {
   "cell_type": "code",
   "execution_count": null,
   "id": "3c988d81",
   "metadata": {},
   "outputs": [
    {
     "name": "stdout",
     "output_type": "stream",
     "text": [
      "r1 + r2 = [11 22 33 44 55]\n",
      "r1 - r2 = [ -9 -18 -27 -36 -45]\n",
      "r1 * r2 = [ 10  40  90 160 250]\n",
      "r2 / r1 = [10. 10. 10. 10. 10.]\n"
     ]
    }
   ],
   "source": [
    "import numpy as np\n",
    "\n",
    "# 🧮 Vectorized Operations\n",
    "r1 = np.array([1, 2, 3, 4, 5])\n",
    "r2 = np.array([10, 20, 30, 40, 50])\n",
    "\n",
    "print(\"r1 + r2 =\", r1 + r2)   # Addition \n",
    "print(\"r1 - r2 =\", r1 - r2)   # Subtraction\n",
    "print(\"r1 * r2 =\", r1 * r2)   # Multiplication\n",
    "print(\"r2 / r1 =\", r2 / r1)   # Division\n",
    "\n",
    "# r1 + r2 = [11 22 33 44 55]\n",
    "# r1 - r2 = [ -9 -18 -27 -36 -45]\n",
    "# r1 * r2 = [ 10  40  90 160 250]\n",
    "# r2 / r1 = [10. 10. 10. 10. 10.]\n"
   ]
  },
  {
   "cell_type": "code",
   "execution_count": null,
   "id": "56d24a2c",
   "metadata": {},
   "outputs": [
    {
     "name": "stdout",
     "output_type": "stream",
     "text": [
      "np.sqrt(arr) = [1. 2. 3. 4. 5.]\n",
      "np.exp(arr) = [2.71828183e+00 5.45981500e+01 8.10308393e+03 8.88611052e+06\n",
      " 7.20048993e+10]\n",
      "np.sin(arr) = [ 0.84147098 -0.7568025   0.41211849 -0.28790332 -0.13235175]\n",
      "np.log(arr) = [0.         1.38629436 2.19722458 2.77258872 3.21887582]\n"
     ]
    }
   ],
   "source": [
    "# 🔢 Universal Functions (ufuncs)\n",
    "# These apply to each element:\n",
    "# np.sqrt(arr)      # Square root\n",
    "# np.exp(arr)       # Exponential\n",
    "# np.sin(arr)       # Sine\n",
    "# np.log(arr)       # Natural log\n",
    "\n",
    "import numpy as np\n",
    "\n",
    "# 🔢 Universal Functions (ufuncs)\n",
    "arr = np.array([1, 4, 9, 16, 25])\n",
    "\n",
    "print(\"np.sqrt(arr) =\", np.sqrt(arr))   # Square root # Output: [1. 2. 3. 4. 5.]\n",
    "print(\"np.exp(arr) =\", np.exp(arr))     # Exponential # Output: [2.71828183e+00 5.45981500e+01 8.10308393e+03 2.17848130e+07 7.20048993e+10]\n",
    "print(\"np.sin(arr) =\", np.sin(arr))     # Sine        # Output: [0.84147098 -0.7568025  0.41211849 -0.28790332 -0.13235175]\n",
    "print(\"np.log(arr) =\", np.log(arr))     # Natural log # Output: [0.         1.38629436 2.19722458 2.77258872 3.21887582]\n",
    "\n"
   ]
  },
  {
   "cell_type": "code",
   "execution_count": 27,
   "id": "9d53512c",
   "metadata": {},
   "outputs": [
    {
     "name": "stdout",
     "output_type": "stream",
     "text": [
      "arr[0][0] = 1\n",
      "arr[1:, 2:] =\n",
      " [[ 7  8]\n",
      " [11 12]]\n",
      "arr[1:, :2] =\n",
      " [[ 5  6]\n",
      " [ 9 10]]\n",
      "arr[:, 1:3] =\n",
      " [[ 2  3]\n",
      " [ 6  7]\n",
      " [10 11]]\n"
     ]
    }
   ],
   "source": [
    "# 🔍 Indexing and Slicing\n",
    "# Create a 2D array:\n",
    "import numpy as np\n",
    "\n",
    "# 🔍 Indexing and Slicing\n",
    "\n",
    "# Create a 2D array:\n",
    "arr = np.array([\n",
    "  [1, 2, 3, 4],\n",
    "  [5, 6, 7, 8],\n",
    "  [9, 10, 11, 12]\n",
    "])\n",
    "\n",
    "# Access specific element:\n",
    "print(\"arr[0][0] =\", arr[0][0])  # Output: 1\n",
    "\n",
    "# Slice rows and columns:\n",
    "print(\"arr[1:, 2:] =\\n\", arr[1:, 2:])  # Rows from index 1, columns from index 2\n",
    "print(\"arr[1:, :2] =\\n\", arr[1:, :2])  # Rows from 1, first 2 columns\n",
    "print(\"arr[:, 1:3] =\\n\", arr[:, 1:3])  # All rows, columns 1 and 2\n",
    "\n"
   ]
  },
  {
   "cell_type": "code",
   "execution_count": 28,
   "id": "690cd628",
   "metadata": {},
   "outputs": [
    {
     "name": "stdout",
     "output_type": "stream",
     "text": [
      "Original array:\n",
      " [[1 2 3]\n",
      " [4 5 6]\n",
      " [7 8 9]]\n",
      "\n",
      "After arr[0][0] = 100:\n",
      " [[100   2   3]\n",
      " [  4   5   6]\n",
      " [  7   8   9]]\n",
      "\n",
      "After arr[1:] = 100:\n",
      " [[100   2   3]\n",
      " [100 100 100]\n",
      " [100 100 100]]\n"
     ]
    }
   ],
   "source": [
    "import numpy as np\n",
    "\n",
    "# ✏️ Modifying Arrays\n",
    "\n",
    "# Create a 2D array\n",
    "arr = np.array([\n",
    "  [1, 2, 3],\n",
    "  [4, 5, 6],\n",
    "  [7, 8, 9]\n",
    "])\n",
    "\n",
    "print(\"Original array:\\n\", arr)\n",
    "\n",
    "# Change specific element\n",
    "arr[0][0] = 100\n",
    "print(\"\\nAfter arr[0][0] = 100:\\n\", arr)\n",
    "\n",
    "# Change part of array\n",
    "arr[1:] = 100  # Set all values from row 1 onwards to 100\n",
    "print(\"\\nAfter arr[1:] = 100:\\n\", arr)\n"
   ]
  },
  {
   "cell_type": "code",
   "execution_count": 29,
   "id": "edc0b529",
   "metadata": {},
   "outputs": [
    {
     "name": "stdout",
     "output_type": "stream",
     "text": [
      "Mean: 3.0\n",
      "Median: 3.0\n",
      "Standard Deviation: 1.4142135623730951\n",
      "Variance: 2.0\n"
     ]
    }
   ],
   "source": [
    "import numpy as np\n",
    "\n",
    "# 📈 Statistical Operations\n",
    "data = np.array([1, 2, 3, 4, 5])\n",
    "\n",
    "print(\"Mean:\", np.mean(data))       # Mean\n",
    "print(\"Median:\", np.median(data))   # Median\n",
    "print(\"Standard Deviation:\", np.std(data))  # Standard deviation\n",
    "print(\"Variance:\", np.var(data))    # Variance\n"
   ]
  },
  {
   "cell_type": "code",
   "execution_count": 30,
   "id": "69fd2a21",
   "metadata": {},
   "outputs": [
    {
     "name": "stdout",
     "output_type": "stream",
     "text": [
      "Original data: [1 2 3 4 5]\n",
      "Mean: 3.0\n",
      "Standard Deviation: 1.4142135623730951\n",
      "Normalized data: [-1.41421356 -0.70710678  0.          0.70710678  1.41421356]\n"
     ]
    }
   ],
   "source": [
    "import numpy as np\n",
    "\n",
    "# ⚖️ Normalization Example\n",
    "data = np.array([1, 2, 3, 4, 5])\n",
    "\n",
    "# Calculate mean and standard deviation\n",
    "mean = np.mean(data)\n",
    "std = np.std(data)\n",
    "\n",
    "# Normalize the data\n",
    "normalized_data = (data - mean) / std\n",
    "\n",
    "# Output results\n",
    "print(\"Original data:\", data)\n",
    "print(\"Mean:\", mean)\n",
    "print(\"Standard Deviation:\", std)\n",
    "print(\"Normalized data:\", normalized_data)\n",
    "\n"
   ]
  },
  {
   "cell_type": "code",
   "execution_count": 31,
   "id": "2acfef30",
   "metadata": {},
   "outputs": [
    {
     "name": "stdout",
     "output_type": "stream",
     "text": [
      "data > 5: [False False False False False  True  True  True  True  True]\n",
      "data[data > 5]: [ 6  7  8  9 10]\n",
      "data[(data >= 5) & (data <= 8)]: [5 6 7 8]\n"
     ]
    }
   ],
   "source": [
    "import numpy as np\n",
    "\n",
    "# ✅ Logical Operations\n",
    "data = np.array([1, 2, 3, 4, 5, 6, 7, 8, 9, 10])\n",
    "\n",
    "# Condition check\n",
    "print(\"data > 5:\", data > 5)\n",
    "# Output: [False False False False False  True  True  True  True  True]\n",
    "\n",
    "# Get values greater than 5\n",
    "print(\"data[data > 5]:\", data[data > 5])\n",
    "# Output: [ 6  7  8  9 10]\n",
    "\n",
    "# Combine multiple conditions\n",
    "print(\"data[(data >= 5) & (data <= 8)]:\", data[(data >= 5) & (data <= 8)])\n",
    "# Output: [5 6 7 8]\n"
   ]
  }
 ],
 "metadata": {
  "kernelspec": {
   "display_name": "Python 3",
   "language": "python",
   "name": "python3"
  },
  "language_info": {
   "codemirror_mode": {
    "name": "ipython",
    "version": 3
   },
   "file_extension": ".py",
   "mimetype": "text/x-python",
   "name": "python",
   "nbconvert_exporter": "python",
   "pygments_lexer": "ipython3",
   "version": "3.10.16"
  }
 },
 "nbformat": 4,
 "nbformat_minor": 5
}
