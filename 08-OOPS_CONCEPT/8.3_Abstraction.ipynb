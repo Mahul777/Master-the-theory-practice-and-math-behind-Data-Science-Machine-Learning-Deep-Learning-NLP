{
 "cells": [
  {
   "cell_type": "markdown",
   "id": "61079398",
   "metadata": {},
   "source": [
    "✅ What is Abstraction?\n",
    "•\tAbstraction means hiding complex details of an object and showing only the necessary features.\n",
    "•\tIt helps reduce complexity and makes the code easier to work with.\n",
    "•\tReal-world example:\n",
    "o\tA washing machine: You just press a button to start the wash or set the timer, but you don’t need to know how the machine works internally.\n",
    "o\tMobile phones and remotes: You see the buttons and use the features, but the internal processes (like how an app is launched or a device shuts down) are hidden.\n",
    "💡 How Abstraction Works in Python:\n",
    "•\tAbstract classes are used to define features but leave details to child classes.\n",
    "•\tAbstract methods are like empty placeholders — child classes must fill them in with their own specific details.\n"
   ]
  },
  {
   "cell_type": "code",
   "execution_count": 1,
   "id": "1ea82603",
   "metadata": {},
   "outputs": [
    {
     "name": "stdout",
     "output_type": "stream",
     "text": [
      "Car engine started.\n"
     ]
    }
   ],
   "source": [
    "# Importing abstract base classes module\n",
    "from abc import ABC, abstractmethod\n",
    "\n",
    "# Defining an abstract base class 'Vehicle'\n",
    "class Vehicle(ABC):\n",
    "    # Concrete method (not abstract)\n",
    "    def drive(self):\n",
    "        print(\"Vehicle is used for driving.\")\n",
    "\n",
    "    # Abstract method that must be implemented by any subclass\n",
    "    @abstractmethod\n",
    "    def start_engine(self):\n",
    "        pass\n",
    "\n",
    "# Concrete subclass 'Car' that implements the abstract method\n",
    "class Car(Vehicle):\n",
    "    def start_engine(self):\n",
    "        print(\"Car engine started.\")\n",
    "\n",
    "# Function that operates on any vehicle instance\n",
    "def operate_vehicle(vehicle):\n",
    "    vehicle.start_engine()\n",
    "\n",
    "# Creating an instance of Car\n",
    "car = Car()\n",
    "\n",
    "# Operating the vehicle, which will call the implemented 'start_engine' method\n",
    "operate_vehicle(car)  # Output: Car engine started.\n"
   ]
  },
  {
   "cell_type": "markdown",
   "id": "ebf8e872",
   "metadata": {},
   "source": [
    "Here's your code formatted clearly with explanations:\n",
    "\n",
    "```python\n",
    "# Importing abstract base classes module\n",
    "from abc import ABC, abstractmethod\n",
    "\n",
    "# Defining an abstract base class 'Vehicle'\n",
    "class Vehicle(ABC):\n",
    "    # Concrete method (not abstract)\n",
    "    def drive(self):\n",
    "        print(\"Vehicle is used for driving.\")\n",
    "\n",
    "    # Abstract method that must be implemented by any subclass\n",
    "    @abstractmethod\n",
    "    def start_engine(self):\n",
    "        pass\n",
    "\n",
    "# Concrete subclass 'Car' that implements the abstract method\n",
    "class Car(Vehicle):\n",
    "    def start_engine(self):\n",
    "        print(\"Car engine started.\")\n",
    "\n",
    "# Function that operates on any vehicle instance\n",
    "def operate_vehicle(vehicle):\n",
    "    vehicle.start_engine()\n",
    "\n",
    "# Creating an instance of Car\n",
    "car = Car()\n",
    "\n",
    "# Operating the vehicle, which will call the implemented 'start_engine' method\n",
    "operate_vehicle(car)  # Output: Car engine started.\n",
    "```\n",
    "\n",
    "---\n",
    "\n",
    "### 💡 Explanation:\n",
    "\n",
    "* **Abstract Base Class (`Vehicle`)**:\n",
    "\n",
    "  * Inherits from `ABC`, making it an abstract class.\n",
    "  * `drive()` is a **concrete method**, so it has an implementation and is optional to override.\n",
    "  * `start_engine()` is an **abstract method**, so **any subclass must override it**, or the subclass remains abstract and cannot be instantiated.\n",
    "\n",
    "* **Concrete Subclass (`Car`)**:\n",
    "\n",
    "  * Implements the required `start_engine()` method, so it can be instantiated.\n",
    "\n",
    "* **Function `operate_vehicle()`**:\n",
    "\n",
    "  * Demonstrates **polymorphism**: it accepts any object that implements `start_engine()`.\n",
    "\n",
    "* **Output**:\n",
    "\n",
    "  ```\n",
    "  Car engine started.\n",
    "  ```\n",
    "\n",
    "\n"
   ]
  }
 ],
 "metadata": {
  "kernelspec": {
   "display_name": "Python 3",
   "language": "python",
   "name": "python3"
  },
  "language_info": {
   "codemirror_mode": {
    "name": "ipython",
    "version": 3
   },
   "file_extension": ".py",
   "mimetype": "text/x-python",
   "name": "python",
   "nbconvert_exporter": "python",
   "pygments_lexer": "ipython3",
   "version": "3.10.16"
  }
 },
 "nbformat": 4,
 "nbformat_minor": 5
}
