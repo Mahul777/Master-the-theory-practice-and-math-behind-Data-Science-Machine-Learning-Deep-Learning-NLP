{
 "cells": [
  {
   "cell_type": "markdown",
   "id": "a73c1e45",
   "metadata": {},
   "source": [
    "✅ What is Encapsulation?\n",
    "Encapsulation means \"wrapping data and methods together\" in a class.\n",
    "It restricts access to some data to protect the object’s internal state.\n",
    "It prevents accidental changes or misuse of sensitive variables.\n",
    "A key principle of Object-Oriented Programming (OOP), used for clean, reusable, and secure code.\n",
    "💡 Access Modifiers in Python\n",
    "We group variables (data) and functions (methods) inside a class.\n",
    "\n",
    "We control access to these variables using:\n",
    "Public\n",
    "Protected\n",
    "Private access modifiers."
   ]
  },
  {
   "cell_type": "code",
   "execution_count": 1,
   "id": "90c740c9",
   "metadata": {},
   "outputs": [
    {
     "name": "stdout",
     "output_type": "stream",
     "text": [
      "Chris\n"
     ]
    }
   ],
   "source": [
    "# Defining a Person class with name and age attributes\n",
    "class Person:\n",
    "    # Constructor method to initialize name and age attributes\n",
    "    def __init__(self, name, age):\n",
    "        self.name = name  # Public attribute 'name'\n",
    "        self.age = age    # Public attribute 'age'\n",
    "\n",
    "# Creating an instance of the Person class\n",
    "p = Person(\"Chris\", 34)\n",
    "\n",
    "# Printing the 'name' attribute of the person instance\n",
    "print(p.name)  # Output: Chris\n"
   ]
  },
  {
   "cell_type": "markdown",
   "id": "0fc8d722",
   "metadata": {},
   "source": [
    "Explanation:\n",
    "Private Attributes: The __name and __age attributes are made private by prefixing them with double underscores (__). This prevents direct access to these attributes outside the class, enforcing encapsulation.\n",
    "\n",
    "Getter and Setter Methods:\n",
    "get_name(): A getter method to access the private __name attribute.\n",
    "set_name(new_name): A setter method to modify the private __name attribute.\n",
    "\n",
    "Accessing Private Attributes:\n",
    "Directly trying to access p.__name will raise an AttributeError because it is a private attribute.\n",
    "Instead, you use the getter get_name() to safely retrieve the value of __name.\n",
    "Changing the Name: You can change the name using the set_name(new_name) method."
   ]
  },
  {
   "cell_type": "code",
   "execution_count": 2,
   "id": "e9b44c0a",
   "metadata": {},
   "outputs": [
    {
     "name": "stdout",
     "output_type": "stream",
     "text": [
      "34\n",
      "Male\n"
     ]
    }
   ],
   "source": [
    "# Defining a Person class with different types of attributes (public, protected, private)\n",
    "class Person:\n",
    "    # Constructor method to initialize the attributes\n",
    "    def __init__(self, name, age=None, gender=None):\n",
    "        self.name = name             # Public attribute 'name'\n",
    "        self._gender = gender        # Protected attribute '_gender'\n",
    "        self.__age = age             # Private attribute '__age'\n",
    "\n",
    "    # You can access private attributes using name mangling (e.g., '_Person__age')\n",
    "    # This is not recommended for normal usage, but it's possible\n",
    "\n",
    "# Creating an instance of the Person class (with name only)\n",
    "p = Person(\"Chris\", 34, \"Male\")\n",
    "\n",
    "# Accessing private attribute '__age' using name mangling\n",
    "print(p._Person__age)  # ✅ Works (name mangling), Output: 34\n",
    "\n",
    "# Inheriting from Person to create an Employee class\n",
    "class Employee(Person):\n",
    "    # Method to access the protected '_gender' attribute from the parent class\n",
    "    def print_gender(self):\n",
    "        print(self._gender)  # ✅ Allowed (protected)\n",
    "\n",
    "# Creating an instance of Employee\n",
    "e = Employee(\"Alex\", 28, \"Male\")\n",
    "\n",
    "# Accessing the protected attribute from the Employee class\n",
    "e.print_gender()  # ✅ Output: Male\n"
   ]
  },
  {
   "cell_type": "markdown",
   "id": "c3c65a4b",
   "metadata": {},
   "source": [
    "Explanation:\n",
    "Public, Protected, and Private Attributes:\n",
    "\n",
    "Public: The name attribute is accessible directly from outside the class.\n",
    "Protected: The _gender attribute is protected. While it can be accessed by subclasses (like in Employee), it should generally not be modified or accessed directly outside the class.\n",
    "Private: The __age attribute is private. It cannot be accessed directly outside the class, but Python uses name mangling (i.e., _Person__age) to access private attributes.\n",
    "\n",
    "Name Mangling:\n",
    "When you declare a private attribute (e.g., __age), Python internally changes its name to _Person__age to prevent direct access. This is called \"name mangling.\"\n",
    "Although this allows accessing the private attribute using p._Person__age, it's not the intended use, and it's typically discouraged because it breaks encapsulation.\n",
    "\n",
    "Inheritance:\n",
    "The Employee class inherits from Person. It can access the name attribute directly, and the protected _gender attribute can be accessed within the subclass.\n",
    "The print_gender() method in Employee prints the protected _gender attribute."
   ]
  }
 ],
 "metadata": {
  "kernelspec": {
   "display_name": "Python 3",
   "language": "python",
   "name": "python3"
  },
  "language_info": {
   "codemirror_mode": {
    "name": "ipython",
    "version": 3
   },
   "file_extension": ".py",
   "mimetype": "text/x-python",
   "name": "python",
   "nbconvert_exporter": "python",
   "pygments_lexer": "ipython3",
   "version": "3.10.16"
  }
 },
 "nbformat": 4,
 "nbformat_minor": 5
}
